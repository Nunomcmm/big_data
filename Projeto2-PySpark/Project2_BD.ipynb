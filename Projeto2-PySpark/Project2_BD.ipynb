{
 "cells": [
  {
   "cell_type": "markdown",
   "id": "62ae1414",
   "metadata": {},
   "source": [
    "# Loans Classification\n",
    "\n",
    "by André Antunes and Nuno Melo"
   ]
  },
  {
   "cell_type": "markdown",
   "id": "28c848b3",
   "metadata": {},
   "source": [
    "The function `findspark.init()` makes pyspark importable as a regular library."
   ]
  },
  {
   "cell_type": "code",
   "execution_count": 120,
   "id": "8c3d1394",
   "metadata": {},
   "outputs": [],
   "source": [
    "import findspark\n",
    "findspark.init()"
   ]
  },
  {
   "cell_type": "markdown",
   "id": "512e4f81",
   "metadata": {},
   "source": [
    "Build the Spark Session."
   ]
  },
  {
   "cell_type": "code",
   "execution_count": 121,
   "id": "c674bd81",
   "metadata": {},
   "outputs": [],
   "source": [
    "from pyspark.sql import SparkSession\n",
    "spark = SparkSession.builder.master(\"local[*]\").getOrCreate() "
   ]
  },
  {
   "cell_type": "markdown",
   "id": "aa2c646a",
   "metadata": {},
   "source": [
    "## 1. Import the required libraries and packages."
   ]
  },
  {
   "cell_type": "code",
   "execution_count": 122,
   "id": "157f0fdd",
   "metadata": {},
   "outputs": [],
   "source": [
    "from pyspark import SparkFiles\n",
    "\n",
    "import pandas as pd\n",
    "import numpy as np\n",
    "import seaborn as sns\n",
    "\n",
    "import matplotlib.pyplot as plt\n",
    "import plotly.express as px\n",
    "\n",
    "from pyspark.ml.linalg import Vectors\n",
    "from pyspark.ml.feature import VectorAssembler\n",
    "from pyspark.ml.feature import StandardScaler\n",
    "from pyspark.ml.feature import StringIndexer\n",
    "\n",
    "from pyspark.sql.functions import isnan, when, count\n",
    "from pyspark.sql.functions import col, explode, array, lit\n",
    "from pyspark.sql import functions as F\n",
    "from pyspark.sql.types import FloatType\n",
    "\n",
    "from pyspark.ml.classification import LogisticRegression\n",
    "from pyspark.ml.classification import NaiveBayes\n",
    "from pyspark.ml.classification import RandomForestClassifier, LinearSVC\n",
    "from pyspark.ml.classification import GBTClassifier\n",
    "\n",
    "from pyspark.mllib.evaluation import MulticlassMetrics\n",
    "from pyspark.ml.evaluation import BinaryClassificationEvaluator\n",
    "from pyspark.ml.evaluation import MulticlassClassificationEvaluator\n",
    "from pyspark.mllib.util import MLUtils\n",
    "\n",
    "from sklearn.preprocessing import LabelEncoder\n",
    "from sklearn import metrics\n",
    "from sklearn.metrics import classification_report \n",
    "\n",
    "from imblearn.over_sampling import SMOTE\n",
    "from imblearn.combine import SMOTEENN\n"
   ]
  },
  {
   "cell_type": "markdown",
   "id": "f54deed6",
   "metadata": {},
   "source": [
    "## 2. Load the dataset\n",
    "\n",
    "Read a csv file into a Spark dataframe."
   ]
  },
  {
   "cell_type": "code",
   "execution_count": 123,
   "id": "98a5cb25",
   "metadata": {
    "scrolled": true
   },
   "outputs": [
    {
     "name": "stdout",
     "output_type": "stream",
     "text": [
      "-RECORD 0--------------------------------------------\n",
      " ID                           | 17388503             \n",
      " Loan Amount                  | 12368                \n",
      " Funded Amount                | 23353                \n",
      " Funded Amount Investor       | 16997.29781          \n",
      " Term                         | 59                   \n",
      " Batch Enrolled               | BAT5924421           \n",
      " Interest Rate                | 17.37107461          \n",
      " Grade                        | C                    \n",
      " Sub Grade                    | C1                   \n",
      " Employment Duration          | MORTGAGE             \n",
      " Home Ownership               | 49456.48751          \n",
      " Verification Status          | Verified             \n",
      " Payment Plan                 | n                    \n",
      " Loan Title                   | Medical              \n",
      " Debit to Income              | 12.12823314          \n",
      " Delinquency - two years      | 0                    \n",
      " Inquires - six months        | 0                    \n",
      " Open Account                 | 12                   \n",
      " Public Record                | 0                    \n",
      " Revolving Balance            | 4755                 \n",
      " Revolving Utilities          | 32.42628489          \n",
      " Total Accounts               | 26                   \n",
      " Initial List Status          | w                    \n",
      " Total Received Interest      | 1261.664743          \n",
      " Total Received Late Fee      | 0.092563588          \n",
      " Recoveries                   | 4.494961299          \n",
      " Collection Recovery Fee      | 0.658579984          \n",
      " Application Type             | INDIVIDUAL           \n",
      " Last week Pay                | 15                   \n",
      " Total Collection Amount      | 17                   \n",
      " Total Current Balance        | 110910               \n",
      " Total Revolving Credit Limit | 28538                \n",
      " Loan Status                  | 0                    \n",
      "-RECORD 1--------------------------------------------\n",
      " ID                           | 4988439              \n",
      " Loan Amount                  | 12622                \n",
      " Funded Amount                | 26273                \n",
      " Funded Amount Investor       | 12185.93819          \n",
      " Term                         | 59                   \n",
      " Batch Enrolled               | BAT2575549           \n",
      " Interest Rate                | 5.514894245          \n",
      " Grade                        | F                    \n",
      " Sub Grade                    | A5                   \n",
      " Employment Duration          | RENT                 \n",
      " Home Ownership               | 89132.96235          \n",
      " Verification Status          | Not Verified         \n",
      " Payment Plan                 | n                    \n",
      " Loan Title                   | Other                \n",
      " Debit to Income              | 24.68352551          \n",
      " Delinquency - two years      | 0                    \n",
      " Inquires - six months        | 0                    \n",
      " Open Account                 | 13                   \n",
      " Public Record                | 0                    \n",
      " Revolving Balance            | 15003                \n",
      " Revolving Utilities          | 70.22471972          \n",
      " Total Accounts               | 35                   \n",
      " Initial List Status          | w                    \n",
      " Total Received Interest      | 4840.606716          \n",
      " Total Received Late Fee      | 0.006874164          \n",
      " Recoveries                   | 1.845878461          \n",
      " Collection Recovery Fee      | 0.844811772          \n",
      " Application Type             | INDIVIDUAL           \n",
      " Last week Pay                | 26                   \n",
      " Total Collection Amount      | 6                    \n",
      " Total Current Balance        | 319982               \n",
      " Total Revolving Credit Limit | 14930                \n",
      " Loan Status                  | 0                    \n",
      "-RECORD 2--------------------------------------------\n",
      " ID                           | 41782184             \n",
      " Loan Amount                  | 4728                 \n",
      " Funded Amount                | 9827                 \n",
      " Funded Amount Investor       | 11289.68994          \n",
      " Term                         | 58                   \n",
      " Batch Enrolled               | BAT1104812           \n",
      " Interest Rate                | 10.91005493          \n",
      " Grade                        | A                    \n",
      " Sub Grade                    | A5                   \n",
      " Employment Duration          | OWN                  \n",
      " Home Ownership               | 71210.30509          \n",
      " Verification Status          | Source Verified      \n",
      " Payment Plan                 | n                    \n",
      " Loan Title                   | Other                \n",
      " Debit to Income              | 22.34756274          \n",
      " Delinquency - two years      | 0                    \n",
      " Inquires - six months        | 0                    \n",
      " Open Account                 | 13                   \n",
      " Public Record                | 0                    \n",
      " Revolving Balance            | 6103                 \n",
      " Revolving Utilities          | 30.0337212           \n",
      " Total Accounts               | 42                   \n",
      " Initial List Status          | f                    \n",
      " Total Received Interest      | 2225.175608          \n",
      " Total Received Late Fee      | 0.134724957          \n",
      " Recoveries                   | 5.224269656          \n",
      " Collection Recovery Fee      | 0.280216902          \n",
      " Application Type             | INDIVIDUAL           \n",
      " Last week Pay                | 136                  \n",
      " Total Collection Amount      | 23                   \n",
      " Total Current Balance        | 155286               \n",
      " Total Revolving Credit Limit | 19483                \n",
      " Loan Status                  | 0                    \n",
      "-RECORD 3--------------------------------------------\n",
      " ID                           | 18633158             \n",
      " Loan Amount                  | 27493                \n",
      " Funded Amount                | 16144                \n",
      " Funded Amount Investor       | 7611.422039          \n",
      " Term                         | 58                   \n",
      " Batch Enrolled               | BAT4271519           \n",
      " Interest Rate                | 10.15403785          \n",
      " Grade                        | A                    \n",
      " Sub Grade                    | D4                   \n",
      " Employment Duration          | OWN                  \n",
      " Home Ownership               | 121574.0292          \n",
      " Verification Status          | Not Verified         \n",
      " Payment Plan                 | n                    \n",
      " Loan Title                   | Debt consolidation   \n",
      " Debit to Income              | 7.988374597          \n",
      " Delinquency - two years      | 0                    \n",
      " Inquires - six months        | 0                    \n",
      " Open Account                 | 11                   \n",
      " Public Record                | 0                    \n",
      " Revolving Balance            | 3858                 \n",
      " Revolving Utilities          | 8.466361106          \n",
      " Total Accounts               | 25                   \n",
      " Initial List Status          | f                    \n",
      " Total Received Interest      | 19.6315478           \n",
      " Total Received Late Fee      | 0.019702923          \n",
      " Recoveries                   | 0.606443717          \n",
      " Collection Recovery Fee      | 0.209944489          \n",
      " Application Type             | INDIVIDUAL           \n",
      " Last week Pay                | 62                   \n",
      " Total Collection Amount      | 34                   \n",
      " Total Current Balance        | 259609               \n",
      " Total Revolving Credit Limit | 39157                \n",
      " Loan Status                  | 0                    \n",
      "-RECORD 4--------------------------------------------\n",
      " ID                           | 34076571             \n",
      " Loan Amount                  | 21095                \n",
      " Funded Amount                | 13706                \n",
      " Funded Amount Investor       | 16966.26078          \n",
      " Term                         | 59                   \n",
      " Batch Enrolled               | BAT2575549           \n",
      " Interest Rate                | 12.52716547          \n",
      " Grade                        | B                    \n",
      " Sub Grade                    | E1                   \n",
      " Employment Duration          | MORTGAGE             \n",
      " Home Ownership               | 73015.69347          \n",
      " Verification Status          | Source Verified      \n",
      " Payment Plan                 | n                    \n",
      " Loan Title                   | Credit card refin... \n",
      " Debit to Income              | 13.24901965          \n",
      " Delinquency - two years      | 0                    \n",
      " Inquires - six months        | 0                    \n",
      " Open Account                 | 13                   \n",
      " Public Record                | 0                    \n",
      " Revolving Balance            | 3190                 \n",
      " Revolving Utilities          | 81.84240611          \n",
      " Total Accounts               | 19                   \n",
      " Initial List Status          | w                    \n",
      " Total Received Interest      | 646.1278375          \n",
      " Total Received Late Fee      | 0.011499388          \n",
      " Recoveries                   | 7.93498865           \n",
      " Collection Recovery Fee      | 0.672914905          \n",
      " Application Type             | INDIVIDUAL           \n",
      " Last week Pay                | 88                   \n",
      " Total Collection Amount      | 26                   \n",
      " Total Current Balance        | 151563               \n",
      " Total Revolving Credit Limit | 17724                \n",
      " Loan Status                  | 0                    \n",
      "only showing top 5 rows\n",
      "\n"
     ]
    }
   ],
   "source": [
    "dataset = spark.read.csv('grupo05.csv',header=True, sep=',', inferSchema=True)\n",
    "dataset.show(5,vertical=True)\n"
   ]
  },
  {
   "cell_type": "markdown",
   "id": "6d5c7fdb",
   "metadata": {},
   "source": [
    "## 3. Data Cleaning"
   ]
  },
  {
   "cell_type": "markdown",
   "id": "7754cca3",
   "metadata": {},
   "source": [
    "Replace the spaces in attributes with underscore for easier use of attributes."
   ]
  },
  {
   "cell_type": "code",
   "execution_count": 124,
   "id": "5c22c7f6",
   "metadata": {
    "scrolled": true
   },
   "outputs": [],
   "source": [
    "exprs = [col(column).alias(column.replace(' ', '_')) for column in dataset.columns]\n",
    "dataset = dataset.select(*exprs)"
   ]
  },
  {
   "cell_type": "markdown",
   "id": "dfb2ff51",
   "metadata": {},
   "source": [
    "Prints the dataset schema in the tree format."
   ]
  },
  {
   "cell_type": "code",
   "execution_count": 125,
   "id": "8b1db960",
   "metadata": {
    "scrolled": true
   },
   "outputs": [
    {
     "name": "stdout",
     "output_type": "stream",
     "text": [
      "root\n",
      " |-- ID: integer (nullable = true)\n",
      " |-- Loan_Amount: integer (nullable = true)\n",
      " |-- Funded_Amount: integer (nullable = true)\n",
      " |-- Funded_Amount_Investor: double (nullable = true)\n",
      " |-- Term: integer (nullable = true)\n",
      " |-- Batch_Enrolled: string (nullable = true)\n",
      " |-- Interest_Rate: double (nullable = true)\n",
      " |-- Grade: string (nullable = true)\n",
      " |-- Sub_Grade: string (nullable = true)\n",
      " |-- Employment_Duration: string (nullable = true)\n",
      " |-- Home_Ownership: double (nullable = true)\n",
      " |-- Verification_Status: string (nullable = true)\n",
      " |-- Payment_Plan: string (nullable = true)\n",
      " |-- Loan_Title: string (nullable = true)\n",
      " |-- Debit_to_Income: double (nullable = true)\n",
      " |-- Delinquency_-_two_years: integer (nullable = true)\n",
      " |-- Inquires_-_six_months: integer (nullable = true)\n",
      " |-- Open_Account: integer (nullable = true)\n",
      " |-- Public_Record: integer (nullable = true)\n",
      " |-- Revolving_Balance: integer (nullable = true)\n",
      " |-- Revolving_Utilities: double (nullable = true)\n",
      " |-- Total_Accounts: integer (nullable = true)\n",
      " |-- Initial_List_Status: string (nullable = true)\n",
      " |-- Total_Received_Interest: double (nullable = true)\n",
      " |-- Total_Received_Late_Fee: double (nullable = true)\n",
      " |-- Recoveries: double (nullable = true)\n",
      " |-- Collection_Recovery_Fee: double (nullable = true)\n",
      " |-- Application_Type: string (nullable = true)\n",
      " |-- Last_week_Pay: integer (nullable = true)\n",
      " |-- Total_Collection_Amount: integer (nullable = true)\n",
      " |-- Total_Current_Balance: integer (nullable = true)\n",
      " |-- Total_Revolving_Credit_Limit: integer (nullable = true)\n",
      " |-- Loan_Status: integer (nullable = true)\n",
      "\n"
     ]
    }
   ],
   "source": [
    "dataset.printSchema()"
   ]
  },
  {
   "cell_type": "markdown",
   "id": "a32da497",
   "metadata": {},
   "source": [
    "Rename columns `Home_Ownership` and `Employment_Duration` that were swapped."
   ]
  },
  {
   "cell_type": "code",
   "execution_count": 126,
   "id": "7e044020",
   "metadata": {
    "scrolled": false
   },
   "outputs": [
    {
     "name": "stdout",
     "output_type": "stream",
     "text": [
      "root\n",
      " |-- ID: integer (nullable = true)\n",
      " |-- Loan_Amount: integer (nullable = true)\n",
      " |-- Funded_Amount: integer (nullable = true)\n",
      " |-- Funded_Amount_Investor: double (nullable = true)\n",
      " |-- Term: integer (nullable = true)\n",
      " |-- Batch_Enrolled: string (nullable = true)\n",
      " |-- Interest_Rate: double (nullable = true)\n",
      " |-- Grade: string (nullable = true)\n",
      " |-- Sub_Grade: string (nullable = true)\n",
      " |-- Home_Ownership: string (nullable = true)\n",
      " |-- Employment__Duration: double (nullable = true)\n",
      " |-- Verification_Status: string (nullable = true)\n",
      " |-- Payment_Plan: string (nullable = true)\n",
      " |-- Loan_Title: string (nullable = true)\n",
      " |-- Debit_to_Income: double (nullable = true)\n",
      " |-- Delinquency_-_two_years: integer (nullable = true)\n",
      " |-- Inquires_-_six_months: integer (nullable = true)\n",
      " |-- Open_Account: integer (nullable = true)\n",
      " |-- Public_Record: integer (nullable = true)\n",
      " |-- Revolving_Balance: integer (nullable = true)\n",
      " |-- Revolving_Utilities: double (nullable = true)\n",
      " |-- Total_Accounts: integer (nullable = true)\n",
      " |-- Initial_List_Status: string (nullable = true)\n",
      " |-- Total_Received_Interest: double (nullable = true)\n",
      " |-- Total_Received_Late_Fee: double (nullable = true)\n",
      " |-- Recoveries: double (nullable = true)\n",
      " |-- Collection_Recovery_Fee: double (nullable = true)\n",
      " |-- Application_Type: string (nullable = true)\n",
      " |-- Last_week_Pay: integer (nullable = true)\n",
      " |-- Total_Collection_Amount: integer (nullable = true)\n",
      " |-- Total_Current_Balance: integer (nullable = true)\n",
      " |-- Total_Revolving_Credit_Limit: integer (nullable = true)\n",
      " |-- Loan_Status: integer (nullable = true)\n",
      "\n"
     ]
    }
   ],
   "source": [
    "dataset = dataset.withColumnRenamed('Home_Ownership','Employment__Duration')\\\n",
    "                .withColumnRenamed('Employment_Duration','Home_Ownership')\n",
    "dataset.printSchema()"
   ]
  },
  {
   "cell_type": "markdown",
   "id": "6cf567db",
   "metadata": {},
   "source": [
    "Convert dataset to Pandas."
   ]
  },
  {
   "cell_type": "code",
   "execution_count": 127,
   "id": "11da70f0",
   "metadata": {},
   "outputs": [],
   "source": [
    "dataset_pd = dataset.toPandas()"
   ]
  },
  {
   "cell_type": "markdown",
   "id": "18f11ae5",
   "metadata": {},
   "source": [
    "We used the `shape` function to show the size of the *dataset*.<br>\n",
    "There are 33 features and 27463 samples."
   ]
  },
  {
   "cell_type": "code",
   "execution_count": 128,
   "id": "9525ef45",
   "metadata": {},
   "outputs": [
    {
     "data": {
      "text/plain": [
       "(27463, 33)"
      ]
     },
     "execution_count": 128,
     "metadata": {},
     "output_type": "execute_result"
    }
   ],
   "source": [
    "dataset_pd.shape"
   ]
  },
  {
   "cell_type": "markdown",
   "id": "e21d6a01",
   "metadata": {},
   "source": [
    "Information about the columns and their *data type* is displayed."
   ]
  },
  {
   "cell_type": "code",
   "execution_count": 129,
   "id": "1e2cd4d6",
   "metadata": {
    "scrolled": false
   },
   "outputs": [
    {
     "name": "stdout",
     "output_type": "stream",
     "text": [
      "<class 'pandas.core.frame.DataFrame'>\n",
      "RangeIndex: 27463 entries, 0 to 27462\n",
      "Data columns (total 33 columns):\n",
      " #   Column                        Non-Null Count  Dtype  \n",
      "---  ------                        --------------  -----  \n",
      " 0   ID                            27463 non-null  int32  \n",
      " 1   Loan_Amount                   27463 non-null  int32  \n",
      " 2   Funded_Amount                 27463 non-null  int32  \n",
      " 3   Funded_Amount_Investor        27463 non-null  float64\n",
      " 4   Term                          27463 non-null  int32  \n",
      " 5   Batch_Enrolled                27463 non-null  object \n",
      " 6   Interest_Rate                 27449 non-null  float64\n",
      " 7   Grade                         27463 non-null  object \n",
      " 8   Sub_Grade                     27463 non-null  object \n",
      " 9   Home_Ownership                27463 non-null  object \n",
      " 10  Employment__Duration          27463 non-null  float64\n",
      " 11  Verification_Status           27463 non-null  object \n",
      " 12  Payment_Plan                  27463 non-null  object \n",
      " 13  Loan_Title                    27463 non-null  object \n",
      " 14  Debit_to_Income               27463 non-null  float64\n",
      " 15  Delinquency_-_two_years       27463 non-null  int32  \n",
      " 16  Inquires_-_six_months         27463 non-null  int32  \n",
      " 17  Open_Account                  27463 non-null  int32  \n",
      " 18  Public_Record                 27463 non-null  int32  \n",
      " 19  Revolving_Balance             27463 non-null  int32  \n",
      " 20  Revolving_Utilities           27463 non-null  float64\n",
      " 21  Total_Accounts                27463 non-null  int32  \n",
      " 22  Initial_List_Status           27463 non-null  object \n",
      " 23  Total_Received_Interest       27463 non-null  float64\n",
      " 24  Total_Received_Late_Fee       27463 non-null  float64\n",
      " 25  Recoveries                    27463 non-null  float64\n",
      " 26  Collection_Recovery_Fee       27463 non-null  float64\n",
      " 27  Application_Type              27463 non-null  object \n",
      " 28  Last_week_Pay                 27463 non-null  int32  \n",
      " 29  Total_Collection_Amount       27463 non-null  int32  \n",
      " 30  Total_Current_Balance         27463 non-null  int32  \n",
      " 31  Total_Revolving_Credit_Limit  27463 non-null  int32  \n",
      " 32  Loan_Status                   27463 non-null  int32  \n",
      "dtypes: float64(9), int32(15), object(9)\n",
      "memory usage: 5.3+ MB\n"
     ]
    }
   ],
   "source": [
    "dataset_pd.info()"
   ]
  },
  {
   "cell_type": "markdown",
   "id": "e9c00ce7",
   "metadata": {},
   "source": [
    "View a description of all numeric columns in the dataset."
   ]
  },
  {
   "cell_type": "code",
   "execution_count": 130,
   "id": "01d16565",
   "metadata": {
    "scrolled": false
   },
   "outputs": [
    {
     "data": {
      "text/html": [
       "<div>\n",
       "<style scoped>\n",
       "    .dataframe tbody tr th:only-of-type {\n",
       "        vertical-align: middle;\n",
       "    }\n",
       "\n",
       "    .dataframe tbody tr th {\n",
       "        vertical-align: top;\n",
       "    }\n",
       "\n",
       "    .dataframe thead th {\n",
       "        text-align: right;\n",
       "    }\n",
       "</style>\n",
       "<table border=\"1\" class=\"dataframe\">\n",
       "  <thead>\n",
       "    <tr style=\"text-align: right;\">\n",
       "      <th></th>\n",
       "      <th>ID</th>\n",
       "      <th>Loan_Amount</th>\n",
       "      <th>Funded_Amount</th>\n",
       "      <th>Funded_Amount_Investor</th>\n",
       "      <th>Term</th>\n",
       "      <th>Interest_Rate</th>\n",
       "      <th>Employment__Duration</th>\n",
       "      <th>Debit_to_Income</th>\n",
       "      <th>Delinquency_-_two_years</th>\n",
       "      <th>Inquires_-_six_months</th>\n",
       "      <th>Open_Account</th>\n",
       "      <th>Public_Record</th>\n",
       "      <th>Revolving_Balance</th>\n",
       "      <th>Revolving_Utilities</th>\n",
       "      <th>Total_Accounts</th>\n",
       "      <th>Total_Received_Interest</th>\n",
       "      <th>Total_Received_Late_Fee</th>\n",
       "      <th>Recoveries</th>\n",
       "      <th>Collection_Recovery_Fee</th>\n",
       "      <th>Last_week_Pay</th>\n",
       "      <th>Total_Collection_Amount</th>\n",
       "      <th>Total_Current_Balance</th>\n",
       "      <th>Total_Revolving_Credit_Limit</th>\n",
       "      <th>Loan_Status</th>\n",
       "    </tr>\n",
       "  </thead>\n",
       "  <tbody>\n",
       "    <tr>\n",
       "      <th>count</th>\n",
       "      <td>2.746300e+04</td>\n",
       "      <td>27463.000000</td>\n",
       "      <td>27463.000000</td>\n",
       "      <td>27463.000000</td>\n",
       "      <td>27463.000000</td>\n",
       "      <td>27449.000000</td>\n",
       "      <td>27463.000000</td>\n",
       "      <td>27463.000000</td>\n",
       "      <td>27463.000000</td>\n",
       "      <td>27463.000000</td>\n",
       "      <td>27463.000000</td>\n",
       "      <td>27463.000000</td>\n",
       "      <td>27463.000000</td>\n",
       "      <td>27463.000000</td>\n",
       "      <td>27463.000000</td>\n",
       "      <td>27463.000000</td>\n",
       "      <td>27463.000000</td>\n",
       "      <td>27463.000000</td>\n",
       "      <td>27463.000000</td>\n",
       "      <td>27463.000000</td>\n",
       "      <td>27463.000000</td>\n",
       "      <td>2.746300e+04</td>\n",
       "      <td>27463.000000</td>\n",
       "      <td>27463.000000</td>\n",
       "    </tr>\n",
       "    <tr>\n",
       "      <th>mean</th>\n",
       "      <td>2.560186e+07</td>\n",
       "      <td>16868.375123</td>\n",
       "      <td>15742.967957</td>\n",
       "      <td>14588.326348</td>\n",
       "      <td>58.164221</td>\n",
       "      <td>11.821836</td>\n",
       "      <td>80350.756825</td>\n",
       "      <td>23.343208</td>\n",
       "      <td>0.319011</td>\n",
       "      <td>0.148636</td>\n",
       "      <td>14.225540</td>\n",
       "      <td>0.083385</td>\n",
       "      <td>7658.492736</td>\n",
       "      <td>52.867355</td>\n",
       "      <td>18.659979</td>\n",
       "      <td>2068.683359</td>\n",
       "      <td>1.173008</td>\n",
       "      <td>61.605759</td>\n",
       "      <td>1.136185</td>\n",
       "      <td>71.209810</td>\n",
       "      <td>146.843717</td>\n",
       "      <td>1.594395e+05</td>\n",
       "      <td>23211.141317</td>\n",
       "      <td>0.091942</td>\n",
       "    </tr>\n",
       "    <tr>\n",
       "      <th>std</th>\n",
       "      <td>2.110842e+07</td>\n",
       "      <td>8401.265321</td>\n",
       "      <td>8110.971278</td>\n",
       "      <td>6734.715911</td>\n",
       "      <td>3.370217</td>\n",
       "      <td>3.708648</td>\n",
       "      <td>44755.246375</td>\n",
       "      <td>8.450867</td>\n",
       "      <td>0.777294</td>\n",
       "      <td>0.478938</td>\n",
       "      <td>6.229694</td>\n",
       "      <td>0.350881</td>\n",
       "      <td>7734.609834</td>\n",
       "      <td>22.581108</td>\n",
       "      <td>8.342639</td>\n",
       "      <td>2241.420311</td>\n",
       "      <td>5.319055</td>\n",
       "      <td>363.130016</td>\n",
       "      <td>3.633339</td>\n",
       "      <td>43.272842</td>\n",
       "      <td>757.330889</td>\n",
       "      <td>1.386522e+05</td>\n",
       "      <td>20989.369720</td>\n",
       "      <td>0.288949</td>\n",
       "    </tr>\n",
       "    <tr>\n",
       "      <th>min</th>\n",
       "      <td>1.298156e+06</td>\n",
       "      <td>1014.000000</td>\n",
       "      <td>1014.000000</td>\n",
       "      <td>1114.590204</td>\n",
       "      <td>36.000000</td>\n",
       "      <td>5.323846</td>\n",
       "      <td>14652.379680</td>\n",
       "      <td>1.237229</td>\n",
       "      <td>0.000000</td>\n",
       "      <td>0.000000</td>\n",
       "      <td>2.000000</td>\n",
       "      <td>0.000000</td>\n",
       "      <td>0.000000</td>\n",
       "      <td>0.005172</td>\n",
       "      <td>4.000000</td>\n",
       "      <td>4.736746</td>\n",
       "      <td>0.000023</td>\n",
       "      <td>0.000221</td>\n",
       "      <td>0.000184</td>\n",
       "      <td>0.000000</td>\n",
       "      <td>1.000000</td>\n",
       "      <td>6.910000e+02</td>\n",
       "      <td>1001.000000</td>\n",
       "      <td>0.000000</td>\n",
       "    </tr>\n",
       "    <tr>\n",
       "      <th>25%</th>\n",
       "      <td>6.545204e+06</td>\n",
       "      <td>9981.000000</td>\n",
       "      <td>9290.000000</td>\n",
       "      <td>9816.940246</td>\n",
       "      <td>58.000000</td>\n",
       "      <td>9.264274</td>\n",
       "      <td>51694.083320</td>\n",
       "      <td>16.765622</td>\n",
       "      <td>0.000000</td>\n",
       "      <td>0.000000</td>\n",
       "      <td>10.000000</td>\n",
       "      <td>0.000000</td>\n",
       "      <td>2552.000000</td>\n",
       "      <td>38.660499</td>\n",
       "      <td>13.000000</td>\n",
       "      <td>567.913021</td>\n",
       "      <td>0.021193</td>\n",
       "      <td>1.629009</td>\n",
       "      <td>0.475574</td>\n",
       "      <td>35.000000</td>\n",
       "      <td>24.000000</td>\n",
       "      <td>5.021600e+04</td>\n",
       "      <td>8172.000000</td>\n",
       "      <td>0.000000</td>\n",
       "    </tr>\n",
       "    <tr>\n",
       "      <th>50%</th>\n",
       "      <td>1.783361e+07</td>\n",
       "      <td>16087.000000</td>\n",
       "      <td>13031.000000</td>\n",
       "      <td>12797.867640</td>\n",
       "      <td>59.000000</td>\n",
       "      <td>11.346244</td>\n",
       "      <td>69232.089880</td>\n",
       "      <td>22.676667</td>\n",
       "      <td>0.000000</td>\n",
       "      <td>0.000000</td>\n",
       "      <td>13.000000</td>\n",
       "      <td>0.000000</td>\n",
       "      <td>5533.000000</td>\n",
       "      <td>54.155839</td>\n",
       "      <td>18.000000</td>\n",
       "      <td>1325.612301</td>\n",
       "      <td>0.043625</td>\n",
       "      <td>3.340969</td>\n",
       "      <td>0.779665</td>\n",
       "      <td>68.000000</td>\n",
       "      <td>35.000000</td>\n",
       "      <td>1.191580e+05</td>\n",
       "      <td>16811.000000</td>\n",
       "      <td>0.000000</td>\n",
       "    </tr>\n",
       "    <tr>\n",
       "      <th>75%</th>\n",
       "      <td>4.273982e+07</td>\n",
       "      <td>22193.000000</td>\n",
       "      <td>21711.500000</td>\n",
       "      <td>17701.515280</td>\n",
       "      <td>59.000000</td>\n",
       "      <td>14.187310</td>\n",
       "      <td>94404.906125</td>\n",
       "      <td>30.100717</td>\n",
       "      <td>0.000000</td>\n",
       "      <td>0.000000</td>\n",
       "      <td>16.000000</td>\n",
       "      <td>0.000000</td>\n",
       "      <td>10142.500000</td>\n",
       "      <td>69.069330</td>\n",
       "      <td>23.000000</td>\n",
       "      <td>2641.662551</td>\n",
       "      <td>0.072099</td>\n",
       "      <td>5.453965</td>\n",
       "      <td>1.066279</td>\n",
       "      <td>105.000000</td>\n",
       "      <td>46.000000</td>\n",
       "      <td>2.281755e+05</td>\n",
       "      <td>32149.000000</td>\n",
       "      <td>0.000000</td>\n",
       "    </tr>\n",
       "    <tr>\n",
       "      <th>max</th>\n",
       "      <td>7.218252e+07</td>\n",
       "      <td>35000.000000</td>\n",
       "      <td>34999.000000</td>\n",
       "      <td>34996.887470</td>\n",
       "      <td>59.000000</td>\n",
       "      <td>27.182348</td>\n",
       "      <td>404550.444000</td>\n",
       "      <td>39.629862</td>\n",
       "      <td>8.000000</td>\n",
       "      <td>5.000000</td>\n",
       "      <td>37.000000</td>\n",
       "      <td>4.000000</td>\n",
       "      <td>114621.000000</td>\n",
       "      <td>100.858613</td>\n",
       "      <td>72.000000</td>\n",
       "      <td>14301.368310</td>\n",
       "      <td>42.449040</td>\n",
       "      <td>4354.467419</td>\n",
       "      <td>166.833000</td>\n",
       "      <td>161.000000</td>\n",
       "      <td>16421.000000</td>\n",
       "      <td>1.177412e+06</td>\n",
       "      <td>201169.000000</td>\n",
       "      <td>1.000000</td>\n",
       "    </tr>\n",
       "  </tbody>\n",
       "</table>\n",
       "</div>"
      ],
      "text/plain": [
       "                 ID   Loan_Amount  Funded_Amount  Funded_Amount_Investor  \\\n",
       "count  2.746300e+04  27463.000000   27463.000000            27463.000000   \n",
       "mean   2.560186e+07  16868.375123   15742.967957            14588.326348   \n",
       "std    2.110842e+07   8401.265321    8110.971278             6734.715911   \n",
       "min    1.298156e+06   1014.000000    1014.000000             1114.590204   \n",
       "25%    6.545204e+06   9981.000000    9290.000000             9816.940246   \n",
       "50%    1.783361e+07  16087.000000   13031.000000            12797.867640   \n",
       "75%    4.273982e+07  22193.000000   21711.500000            17701.515280   \n",
       "max    7.218252e+07  35000.000000   34999.000000            34996.887470   \n",
       "\n",
       "               Term  Interest_Rate  Employment__Duration  Debit_to_Income  \\\n",
       "count  27463.000000   27449.000000          27463.000000     27463.000000   \n",
       "mean      58.164221      11.821836          80350.756825        23.343208   \n",
       "std        3.370217       3.708648          44755.246375         8.450867   \n",
       "min       36.000000       5.323846          14652.379680         1.237229   \n",
       "25%       58.000000       9.264274          51694.083320        16.765622   \n",
       "50%       59.000000      11.346244          69232.089880        22.676667   \n",
       "75%       59.000000      14.187310          94404.906125        30.100717   \n",
       "max       59.000000      27.182348         404550.444000        39.629862   \n",
       "\n",
       "       Delinquency_-_two_years  Inquires_-_six_months  Open_Account  \\\n",
       "count             27463.000000           27463.000000  27463.000000   \n",
       "mean                  0.319011               0.148636     14.225540   \n",
       "std                   0.777294               0.478938      6.229694   \n",
       "min                   0.000000               0.000000      2.000000   \n",
       "25%                   0.000000               0.000000     10.000000   \n",
       "50%                   0.000000               0.000000     13.000000   \n",
       "75%                   0.000000               0.000000     16.000000   \n",
       "max                   8.000000               5.000000     37.000000   \n",
       "\n",
       "       Public_Record  Revolving_Balance  Revolving_Utilities  Total_Accounts  \\\n",
       "count   27463.000000       27463.000000         27463.000000    27463.000000   \n",
       "mean        0.083385        7658.492736            52.867355       18.659979   \n",
       "std         0.350881        7734.609834            22.581108        8.342639   \n",
       "min         0.000000           0.000000             0.005172        4.000000   \n",
       "25%         0.000000        2552.000000            38.660499       13.000000   \n",
       "50%         0.000000        5533.000000            54.155839       18.000000   \n",
       "75%         0.000000       10142.500000            69.069330       23.000000   \n",
       "max         4.000000      114621.000000           100.858613       72.000000   \n",
       "\n",
       "       Total_Received_Interest  Total_Received_Late_Fee    Recoveries  \\\n",
       "count             27463.000000             27463.000000  27463.000000   \n",
       "mean               2068.683359                 1.173008     61.605759   \n",
       "std                2241.420311                 5.319055    363.130016   \n",
       "min                   4.736746                 0.000023      0.000221   \n",
       "25%                 567.913021                 0.021193      1.629009   \n",
       "50%                1325.612301                 0.043625      3.340969   \n",
       "75%                2641.662551                 0.072099      5.453965   \n",
       "max               14301.368310                42.449040   4354.467419   \n",
       "\n",
       "       Collection_Recovery_Fee  Last_week_Pay  Total_Collection_Amount  \\\n",
       "count             27463.000000   27463.000000             27463.000000   \n",
       "mean                  1.136185      71.209810               146.843717   \n",
       "std                   3.633339      43.272842               757.330889   \n",
       "min                   0.000184       0.000000                 1.000000   \n",
       "25%                   0.475574      35.000000                24.000000   \n",
       "50%                   0.779665      68.000000                35.000000   \n",
       "75%                   1.066279     105.000000                46.000000   \n",
       "max                 166.833000     161.000000             16421.000000   \n",
       "\n",
       "       Total_Current_Balance  Total_Revolving_Credit_Limit   Loan_Status  \n",
       "count           2.746300e+04                  27463.000000  27463.000000  \n",
       "mean            1.594395e+05                  23211.141317      0.091942  \n",
       "std             1.386522e+05                  20989.369720      0.288949  \n",
       "min             6.910000e+02                   1001.000000      0.000000  \n",
       "25%             5.021600e+04                   8172.000000      0.000000  \n",
       "50%             1.191580e+05                  16811.000000      0.000000  \n",
       "75%             2.281755e+05                  32149.000000      0.000000  \n",
       "max             1.177412e+06                 201169.000000      1.000000  "
      ]
     },
     "execution_count": 130,
     "metadata": {},
     "output_type": "execute_result"
    }
   ],
   "source": [
    "dataset_pd.describe()"
   ]
  },
  {
   "cell_type": "markdown",
   "id": "63316bcb",
   "metadata": {},
   "source": [
    "Show all columns."
   ]
  },
  {
   "cell_type": "code",
   "execution_count": 131,
   "id": "51718330",
   "metadata": {},
   "outputs": [],
   "source": [
    "pd.options.display.max_columns = dataset_pd.shape[1] "
   ]
  },
  {
   "cell_type": "markdown",
   "id": "f6ccb69c",
   "metadata": {},
   "source": [
    "View a description of all object columns in the dataset."
   ]
  },
  {
   "cell_type": "code",
   "execution_count": 132,
   "id": "5fd68fd1",
   "metadata": {},
   "outputs": [
    {
     "data": {
      "text/html": [
       "<div>\n",
       "<style scoped>\n",
       "    .dataframe tbody tr th:only-of-type {\n",
       "        vertical-align: middle;\n",
       "    }\n",
       "\n",
       "    .dataframe tbody tr th {\n",
       "        vertical-align: top;\n",
       "    }\n",
       "\n",
       "    .dataframe thead th {\n",
       "        text-align: right;\n",
       "    }\n",
       "</style>\n",
       "<table border=\"1\" class=\"dataframe\">\n",
       "  <thead>\n",
       "    <tr style=\"text-align: right;\">\n",
       "      <th></th>\n",
       "      <th>Batch_Enrolled</th>\n",
       "      <th>Grade</th>\n",
       "      <th>Sub_Grade</th>\n",
       "      <th>Home_Ownership</th>\n",
       "      <th>Verification_Status</th>\n",
       "      <th>Payment_Plan</th>\n",
       "      <th>Loan_Title</th>\n",
       "      <th>Initial_List_Status</th>\n",
       "      <th>Application_Type</th>\n",
       "    </tr>\n",
       "  </thead>\n",
       "  <tbody>\n",
       "    <tr>\n",
       "      <th>count</th>\n",
       "      <td>27463</td>\n",
       "      <td>27463</td>\n",
       "      <td>27463</td>\n",
       "      <td>27463</td>\n",
       "      <td>27463</td>\n",
       "      <td>27463</td>\n",
       "      <td>27463</td>\n",
       "      <td>27463</td>\n",
       "      <td>27463</td>\n",
       "    </tr>\n",
       "    <tr>\n",
       "      <th>unique</th>\n",
       "      <td>41</td>\n",
       "      <td>7</td>\n",
       "      <td>35</td>\n",
       "      <td>3</td>\n",
       "      <td>3</td>\n",
       "      <td>1</td>\n",
       "      <td>108</td>\n",
       "      <td>2</td>\n",
       "      <td>2</td>\n",
       "    </tr>\n",
       "    <tr>\n",
       "      <th>top</th>\n",
       "      <td>BAT3873588</td>\n",
       "      <td>C</td>\n",
       "      <td>B4</td>\n",
       "      <td>MORTGAGE</td>\n",
       "      <td>Source Verified</td>\n",
       "      <td>n</td>\n",
       "      <td>Credit card refinancing</td>\n",
       "      <td>w</td>\n",
       "      <td>INDIVIDUAL</td>\n",
       "    </tr>\n",
       "    <tr>\n",
       "      <th>freq</th>\n",
       "      <td>1485</td>\n",
       "      <td>7768</td>\n",
       "      <td>1861</td>\n",
       "      <td>14723</td>\n",
       "      <td>13391</td>\n",
       "      <td>27463</td>\n",
       "      <td>12454</td>\n",
       "      <td>14838</td>\n",
       "      <td>27401</td>\n",
       "    </tr>\n",
       "  </tbody>\n",
       "</table>\n",
       "</div>"
      ],
      "text/plain": [
       "       Batch_Enrolled  Grade Sub_Grade Home_Ownership Verification_Status  \\\n",
       "count           27463  27463     27463          27463               27463   \n",
       "unique             41      7        35              3                   3   \n",
       "top        BAT3873588      C        B4       MORTGAGE     Source Verified   \n",
       "freq             1485   7768      1861          14723               13391   \n",
       "\n",
       "       Payment_Plan               Loan_Title Initial_List_Status  \\\n",
       "count         27463                    27463               27463   \n",
       "unique            1                      108                   2   \n",
       "top               n  Credit card refinancing                   w   \n",
       "freq          27463                    12454               14838   \n",
       "\n",
       "       Application_Type  \n",
       "count             27463  \n",
       "unique                2  \n",
       "top          INDIVIDUAL  \n",
       "freq              27401  "
      ]
     },
     "execution_count": 132,
     "metadata": {},
     "output_type": "execute_result"
    }
   ],
   "source": [
    "dataset_pd.describe(include=object)"
   ]
  },
  {
   "cell_type": "markdown",
   "id": "acf0bf4a",
   "metadata": {},
   "source": [
    "Check if there are NA values in each of the dataset attributes."
   ]
  },
  {
   "cell_type": "code",
   "execution_count": 133,
   "id": "03c9b891",
   "metadata": {
    "scrolled": true
   },
   "outputs": [
    {
     "data": {
      "text/plain": [
       "ID                               0\n",
       "Loan_Amount                      0\n",
       "Funded_Amount                    0\n",
       "Funded_Amount_Investor           0\n",
       "Term                             0\n",
       "Batch_Enrolled                   0\n",
       "Interest_Rate                   14\n",
       "Grade                            0\n",
       "Sub_Grade                        0\n",
       "Home_Ownership                   0\n",
       "Employment__Duration             0\n",
       "Verification_Status              0\n",
       "Payment_Plan                     0\n",
       "Loan_Title                       0\n",
       "Debit_to_Income                  0\n",
       "Delinquency_-_two_years          0\n",
       "Inquires_-_six_months            0\n",
       "Open_Account                     0\n",
       "Public_Record                    0\n",
       "Revolving_Balance                0\n",
       "Revolving_Utilities              0\n",
       "Total_Accounts                   0\n",
       "Initial_List_Status              0\n",
       "Total_Received_Interest          0\n",
       "Total_Received_Late_Fee          0\n",
       "Recoveries                       0\n",
       "Collection_Recovery_Fee          0\n",
       "Application_Type                 0\n",
       "Last_week_Pay                    0\n",
       "Total_Collection_Amount          0\n",
       "Total_Current_Balance            0\n",
       "Total_Revolving_Credit_Limit     0\n",
       "Loan_Status                      0\n",
       "dtype: int64"
      ]
     },
     "execution_count": 133,
     "metadata": {},
     "output_type": "execute_result"
    }
   ],
   "source": [
    "dataset_pd.isnull().sum()"
   ]
  },
  {
   "cell_type": "markdown",
   "id": "422414f7",
   "metadata": {},
   "source": [
    "Drop all the rows that have NA values."
   ]
  },
  {
   "cell_type": "code",
   "execution_count": 134,
   "id": "aee3cb46",
   "metadata": {
    "scrolled": true
   },
   "outputs": [
    {
     "name": "stdout",
     "output_type": "stream",
     "text": [
      "Sum of NA values in Interest_Rate: 0\n"
     ]
    }
   ],
   "source": [
    "dataset_pd = dataset_pd.dropna()\n",
    "print('Sum of NA values in Interest_Rate:',dataset_pd['Interest_Rate'].isnull().sum())"
   ]
  },
  {
   "cell_type": "markdown",
   "id": "10a1a4be",
   "metadata": {},
   "source": [
    "Check how many unique values exist in the attributes."
   ]
  },
  {
   "cell_type": "code",
   "execution_count": 135,
   "id": "e069a850",
   "metadata": {
    "scrolled": true
   },
   "outputs": [
    {
     "data": {
      "text/plain": [
       "ID                              27449\n",
       "Loan_Amount                     17953\n",
       "Funded_Amount                   16317\n",
       "Funded_Amount_Investor          27448\n",
       "Term                                3\n",
       "Batch_Enrolled                     41\n",
       "Interest_Rate                   27446\n",
       "Grade                               7\n",
       "Sub_Grade                          35\n",
       "Home_Ownership                      3\n",
       "Employment__Duration            27447\n",
       "Verification_Status                 3\n",
       "Payment_Plan                        1\n",
       "Loan_Title                        108\n",
       "Debit_to_Income                 27448\n",
       "Delinquency_-_two_years             9\n",
       "Inquires_-_six_months               6\n",
       "Open_Account                       36\n",
       "Public_Record                       5\n",
       "Revolving_Balance               14068\n",
       "Revolving_Utilities             27447\n",
       "Total_Accounts                     67\n",
       "Initial_List_Status                 2\n",
       "Total_Received_Interest         27449\n",
       "Total_Received_Late_Fee         27436\n",
       "Recoveries                      27437\n",
       "Collection_Recovery_Fee         27430\n",
       "Application_Type                    2\n",
       "Last_week_Pay                     162\n",
       "Total_Collection_Amount          1300\n",
       "Total_Current_Balance           26275\n",
       "Total_Revolving_Credit_Limit    20852\n",
       "Loan_Status                         2\n",
       "dtype: int64"
      ]
     },
     "execution_count": 135,
     "metadata": {},
     "output_type": "execute_result"
    }
   ],
   "source": [
    "dataset_pd.nunique()"
   ]
  },
  {
   "cell_type": "markdown",
   "id": "2f8b07e1",
   "metadata": {},
   "source": [
    "The attribute `Loan_Title` has many inconsistent values names. "
   ]
  },
  {
   "cell_type": "code",
   "execution_count": 136,
   "id": "ee38511c",
   "metadata": {
    "scrolled": false
   },
   "outputs": [
    {
     "name": "stdout",
     "output_type": "stream",
     "text": [
      "Credit card refinancing    12449\n",
      "Debt consolidation         10057\n",
      "Debt Consolidation          1458\n",
      "Other                       1020\n",
      "Home improvement             945\n",
      "                           ...  \n",
      "Personal loan                  2\n",
      "Medical loan                   2\n",
      "vacation                       2\n",
      "Wedding Loan                   2\n",
      "Credit                         1\n",
      "Name: Loan_Title, Length: 108, dtype: int64\n"
     ]
    }
   ],
   "source": [
    "value_counts = dataset_pd['Loan_Title'].value_counts()\n",
    "print(value_counts)"
   ]
  },
  {
   "cell_type": "markdown",
   "id": "0767b46c",
   "metadata": {},
   "source": [
    "Find similar values names and send to a matching list."
   ]
  },
  {
   "cell_type": "code",
   "execution_count": 137,
   "id": "109b1c3d",
   "metadata": {},
   "outputs": [],
   "source": [
    "debt_consolidation = dataset_pd[dataset_pd['Loan_Title'].str.startswith(('Consoli','consoli','debt','Debt','DEBT','Dept','CONSOL','Loan Consolidation','bill','Bill','pay','Pay','conso','Get Debt Free','get out of debt','Refi','refi','Green loan'))==True]['Loan_Title'].unique()\n",
    "home = dataset_pd[dataset_pd['Loan_Title'].str.startswith(('Home','home','House'))==True]['Loan_Title'].unique()\n",
    "credit = dataset_pd[dataset_pd['Loan_Title'].str.startswith(('Credit','CC','credit','Card','cards'))==True]['Loan_Title'].unique()\n",
    "car_financing = dataset_pd[dataset_pd['Loan_Title'].str.contains('Car ')==True]['Loan_Title'].unique()\n",
    "personal_loan = dataset_pd[dataset_pd['Loan_Title'].str.startswith(('Personal','personal','My'))==True]['Loan_Title'].unique()\n",
    "medical_loan = dataset_pd[dataset_pd['Loan_Title'].str.startswith(('Med','med'))==True]['Loan_Title'].unique()\n",
    "other_loan = dataset_pd[dataset_pd['Loan_Title'].str.startswith(('Loan','Free','Bath','loan','Lending','MYLOAN','relief','Getting Ahead','Pool','Wedding Loan'))==True]['Loan_Title'].unique()\n",
    "vacation = dataset_pd[dataset_pd['Loan_Title'].str.startswith('vacation')==True]['Loan_Title'].unique()"
   ]
  },
  {
   "cell_type": "markdown",
   "id": "e0f449e0",
   "metadata": {},
   "source": [
    "Replace name values with general name."
   ]
  },
  {
   "cell_type": "code",
   "execution_count": 138,
   "id": "86dbb5be",
   "metadata": {},
   "outputs": [],
   "source": [
    "for c in debt_consolidation:\n",
    "    dataset_pd['Loan_Title'].replace(c,'Debt Consolidation',inplace=True)\n",
    "for h in home:    \n",
    "    dataset_pd['Loan_Title'].replace(h,'Home Loan',inplace=True)\n",
    "for c in credit:    \n",
    "    dataset_pd['Loan_Title'].replace(c,'Credit Card Loan',inplace=True)   \n",
    "for c in car_financing:    \n",
    "    dataset_pd['Loan_Title'].replace(c,'Car Financing',inplace=True) \n",
    "for p in personal_loan:    \n",
    "    dataset_pd['Loan_Title'].replace(p,'Personal Loan',inplace=True) \n",
    "for m in medical_loan:\n",
    "    dataset_pd['Loan_Title'].replace(m,'Medical Loan',inplace=True)\n",
    "for o in other_loan:\n",
    "    dataset_pd['Loan_Title'].replace(o,'Others',inplace=True)\n",
    "for v in vacation:\n",
    "    dataset_pd['Loan_Title'].replace(v,'Vacation',inplace=True)"
   ]
  },
  {
   "cell_type": "markdown",
   "id": "d969279e",
   "metadata": {},
   "source": [
    "The attribute `Loan_Title` has now only 12 values names. "
   ]
  },
  {
   "cell_type": "code",
   "execution_count": 139,
   "id": "b2b7b7ec",
   "metadata": {},
   "outputs": [
    {
     "name": "stdout",
     "output_type": "stream",
     "text": [
      "12\n"
     ]
    }
   ],
   "source": [
    "value_counts = dataset_pd['Loan_Title'].nunique()\n",
    "print(value_counts)"
   ]
  },
  {
   "cell_type": "markdown",
   "id": "b5f1b10b",
   "metadata": {},
   "source": [
    "The attribute `Payment_Plan` has a unique value."
   ]
  },
  {
   "cell_type": "code",
   "execution_count": 140,
   "id": "43d9c62c",
   "metadata": {},
   "outputs": [
    {
     "name": "stdout",
     "output_type": "stream",
     "text": [
      "Payment_Plan unique value: ['n']\n"
     ]
    }
   ],
   "source": [
    "payment_plane_unique = dataset_pd['Payment_Plan'].unique()\n",
    "print(f'Payment_Plan unique value: {payment_plane_unique}')"
   ]
  },
  {
   "cell_type": "markdown",
   "id": "9dd7f030",
   "metadata": {},
   "source": [
    "Drop `ID` and `Payment_Plan` attributes."
   ]
  },
  {
   "cell_type": "code",
   "execution_count": 141,
   "id": "0ac9db32",
   "metadata": {},
   "outputs": [],
   "source": [
    "dataset_pd = dataset_pd.drop(['ID','Payment_Plan'], axis=1)"
   ]
  },
  {
   "cell_type": "markdown",
   "id": "ab0c814c",
   "metadata": {},
   "source": [
    "## 4. Exploratory Data Analysis"
   ]
  },
  {
   "cell_type": "markdown",
   "id": "aba653b4",
   "metadata": {},
   "source": [
    "Color palette to use."
   ]
  },
  {
   "cell_type": "code",
   "execution_count": 142,
   "id": "5742c039",
   "metadata": {
    "scrolled": true
   },
   "outputs": [],
   "source": [
    "sns.set_palette(['#0099ff','#006bb3','#003d66'])"
   ]
  },
  {
   "cell_type": "markdown",
   "id": "8610b97a",
   "metadata": {},
   "source": [
    "Correlation between all attributes."
   ]
  },
  {
   "cell_type": "code",
   "execution_count": 143,
   "id": "288085f7",
   "metadata": {},
   "outputs": [
    {
     "data": {
      "text/html": [
       "<div>\n",
       "<style scoped>\n",
       "    .dataframe tbody tr th:only-of-type {\n",
       "        vertical-align: middle;\n",
       "    }\n",
       "\n",
       "    .dataframe tbody tr th {\n",
       "        vertical-align: top;\n",
       "    }\n",
       "\n",
       "    .dataframe thead th {\n",
       "        text-align: right;\n",
       "    }\n",
       "</style>\n",
       "<table border=\"1\" class=\"dataframe\">\n",
       "  <thead>\n",
       "    <tr style=\"text-align: right;\">\n",
       "      <th></th>\n",
       "      <th>Loan_Amount</th>\n",
       "      <th>Funded_Amount</th>\n",
       "      <th>Funded_Amount_Investor</th>\n",
       "      <th>Term</th>\n",
       "      <th>Interest_Rate</th>\n",
       "      <th>Employment__Duration</th>\n",
       "      <th>Debit_to_Income</th>\n",
       "      <th>Delinquency_-_two_years</th>\n",
       "      <th>Inquires_-_six_months</th>\n",
       "      <th>Open_Account</th>\n",
       "      <th>Public_Record</th>\n",
       "      <th>Revolving_Balance</th>\n",
       "      <th>Revolving_Utilities</th>\n",
       "      <th>Total_Accounts</th>\n",
       "      <th>Total_Received_Interest</th>\n",
       "      <th>Total_Received_Late_Fee</th>\n",
       "      <th>Recoveries</th>\n",
       "      <th>Collection_Recovery_Fee</th>\n",
       "      <th>Last_week_Pay</th>\n",
       "      <th>Total_Collection_Amount</th>\n",
       "      <th>Total_Current_Balance</th>\n",
       "      <th>Total_Revolving_Credit_Limit</th>\n",
       "      <th>Loan_Status</th>\n",
       "    </tr>\n",
       "  </thead>\n",
       "  <tbody>\n",
       "    <tr>\n",
       "      <th>Loan_Amount</th>\n",
       "      <td>1.000000</td>\n",
       "      <td>0.001487</td>\n",
       "      <td>0.005562</td>\n",
       "      <td>0.004426</td>\n",
       "      <td>-0.001839</td>\n",
       "      <td>0.016196</td>\n",
       "      <td>0.005976</td>\n",
       "      <td>-0.005207</td>\n",
       "      <td>0.011838</td>\n",
       "      <td>0.012302</td>\n",
       "      <td>-0.004593</td>\n",
       "      <td>-0.003153</td>\n",
       "      <td>0.022875</td>\n",
       "      <td>0.002046</td>\n",
       "      <td>-0.006127</td>\n",
       "      <td>0.005311</td>\n",
       "      <td>-0.001279</td>\n",
       "      <td>-0.003177</td>\n",
       "      <td>-0.001745</td>\n",
       "      <td>-0.003200</td>\n",
       "      <td>-0.010527</td>\n",
       "      <td>0.003106</td>\n",
       "      <td>-0.010354</td>\n",
       "    </tr>\n",
       "    <tr>\n",
       "      <th>Funded_Amount</th>\n",
       "      <td>0.001487</td>\n",
       "      <td>1.000000</td>\n",
       "      <td>0.016001</td>\n",
       "      <td>-0.001693</td>\n",
       "      <td>0.004867</td>\n",
       "      <td>-0.007821</td>\n",
       "      <td>0.002547</td>\n",
       "      <td>0.014373</td>\n",
       "      <td>-0.007791</td>\n",
       "      <td>0.001532</td>\n",
       "      <td>0.004317</td>\n",
       "      <td>-0.005093</td>\n",
       "      <td>0.005498</td>\n",
       "      <td>0.002477</td>\n",
       "      <td>0.003288</td>\n",
       "      <td>0.007350</td>\n",
       "      <td>0.007617</td>\n",
       "      <td>-0.000281</td>\n",
       "      <td>-0.000791</td>\n",
       "      <td>0.008099</td>\n",
       "      <td>-0.010759</td>\n",
       "      <td>0.002588</td>\n",
       "      <td>-0.002105</td>\n",
       "    </tr>\n",
       "    <tr>\n",
       "      <th>Funded_Amount_Investor</th>\n",
       "      <td>0.005562</td>\n",
       "      <td>0.016001</td>\n",
       "      <td>1.000000</td>\n",
       "      <td>-0.008258</td>\n",
       "      <td>-0.002412</td>\n",
       "      <td>-0.005348</td>\n",
       "      <td>0.001473</td>\n",
       "      <td>0.004243</td>\n",
       "      <td>-0.000937</td>\n",
       "      <td>-0.010765</td>\n",
       "      <td>0.008669</td>\n",
       "      <td>-0.010108</td>\n",
       "      <td>-0.005211</td>\n",
       "      <td>-0.000516</td>\n",
       "      <td>0.001204</td>\n",
       "      <td>0.002537</td>\n",
       "      <td>0.001113</td>\n",
       "      <td>-0.012142</td>\n",
       "      <td>0.003909</td>\n",
       "      <td>0.004853</td>\n",
       "      <td>0.000476</td>\n",
       "      <td>0.010868</td>\n",
       "      <td>-0.005927</td>\n",
       "    </tr>\n",
       "    <tr>\n",
       "      <th>Term</th>\n",
       "      <td>0.004426</td>\n",
       "      <td>-0.001693</td>\n",
       "      <td>-0.008258</td>\n",
       "      <td>1.000000</td>\n",
       "      <td>-0.029173</td>\n",
       "      <td>-0.023831</td>\n",
       "      <td>0.004121</td>\n",
       "      <td>-0.003635</td>\n",
       "      <td>-0.003221</td>\n",
       "      <td>0.025559</td>\n",
       "      <td>0.000138</td>\n",
       "      <td>-0.000220</td>\n",
       "      <td>-0.012066</td>\n",
       "      <td>0.004426</td>\n",
       "      <td>0.010703</td>\n",
       "      <td>-0.006110</td>\n",
       "      <td>-0.020829</td>\n",
       "      <td>-0.008659</td>\n",
       "      <td>0.010249</td>\n",
       "      <td>-0.002444</td>\n",
       "      <td>0.002283</td>\n",
       "      <td>-0.003773</td>\n",
       "      <td>-0.001224</td>\n",
       "    </tr>\n",
       "    <tr>\n",
       "      <th>Interest_Rate</th>\n",
       "      <td>-0.001839</td>\n",
       "      <td>0.004867</td>\n",
       "      <td>-0.002412</td>\n",
       "      <td>-0.029173</td>\n",
       "      <td>1.000000</td>\n",
       "      <td>-0.000053</td>\n",
       "      <td>-0.008539</td>\n",
       "      <td>0.010869</td>\n",
       "      <td>0.008795</td>\n",
       "      <td>-0.001318</td>\n",
       "      <td>0.007422</td>\n",
       "      <td>0.026364</td>\n",
       "      <td>0.001908</td>\n",
       "      <td>0.001799</td>\n",
       "      <td>0.011286</td>\n",
       "      <td>0.004238</td>\n",
       "      <td>0.009209</td>\n",
       "      <td>0.002108</td>\n",
       "      <td>-0.010905</td>\n",
       "      <td>0.000297</td>\n",
       "      <td>-0.001005</td>\n",
       "      <td>0.019041</td>\n",
       "      <td>0.003304</td>\n",
       "    </tr>\n",
       "    <tr>\n",
       "      <th>Employment__Duration</th>\n",
       "      <td>0.016196</td>\n",
       "      <td>-0.007821</td>\n",
       "      <td>-0.005348</td>\n",
       "      <td>-0.023831</td>\n",
       "      <td>-0.000053</td>\n",
       "      <td>1.000000</td>\n",
       "      <td>0.017417</td>\n",
       "      <td>-0.003107</td>\n",
       "      <td>-0.001417</td>\n",
       "      <td>0.012904</td>\n",
       "      <td>0.002113</td>\n",
       "      <td>0.017532</td>\n",
       "      <td>-0.004059</td>\n",
       "      <td>0.032562</td>\n",
       "      <td>-0.011855</td>\n",
       "      <td>0.004293</td>\n",
       "      <td>-0.000535</td>\n",
       "      <td>-0.003965</td>\n",
       "      <td>-0.008658</td>\n",
       "      <td>0.007839</td>\n",
       "      <td>0.012501</td>\n",
       "      <td>0.011186</td>\n",
       "      <td>0.008158</td>\n",
       "    </tr>\n",
       "    <tr>\n",
       "      <th>Debit_to_Income</th>\n",
       "      <td>0.005976</td>\n",
       "      <td>0.002547</td>\n",
       "      <td>0.001473</td>\n",
       "      <td>0.004121</td>\n",
       "      <td>-0.008539</td>\n",
       "      <td>0.017417</td>\n",
       "      <td>1.000000</td>\n",
       "      <td>-0.004955</td>\n",
       "      <td>0.002310</td>\n",
       "      <td>0.005237</td>\n",
       "      <td>-0.001985</td>\n",
       "      <td>-0.008371</td>\n",
       "      <td>0.010379</td>\n",
       "      <td>-0.005093</td>\n",
       "      <td>0.013966</td>\n",
       "      <td>-0.006760</td>\n",
       "      <td>-0.004447</td>\n",
       "      <td>-0.000323</td>\n",
       "      <td>0.009099</td>\n",
       "      <td>0.000785</td>\n",
       "      <td>-0.019958</td>\n",
       "      <td>-0.010396</td>\n",
       "      <td>-0.000631</td>\n",
       "    </tr>\n",
       "    <tr>\n",
       "      <th>Delinquency_-_two_years</th>\n",
       "      <td>-0.005207</td>\n",
       "      <td>0.014373</td>\n",
       "      <td>0.004243</td>\n",
       "      <td>-0.003635</td>\n",
       "      <td>0.010869</td>\n",
       "      <td>-0.003107</td>\n",
       "      <td>-0.004955</td>\n",
       "      <td>1.000000</td>\n",
       "      <td>0.006346</td>\n",
       "      <td>0.011712</td>\n",
       "      <td>0.003322</td>\n",
       "      <td>0.019543</td>\n",
       "      <td>-0.001337</td>\n",
       "      <td>-0.000944</td>\n",
       "      <td>0.003550</td>\n",
       "      <td>0.009934</td>\n",
       "      <td>0.017809</td>\n",
       "      <td>0.007405</td>\n",
       "      <td>-0.001458</td>\n",
       "      <td>0.001419</td>\n",
       "      <td>-0.007537</td>\n",
       "      <td>0.013561</td>\n",
       "      <td>0.012758</td>\n",
       "    </tr>\n",
       "    <tr>\n",
       "      <th>Inquires_-_six_months</th>\n",
       "      <td>0.011838</td>\n",
       "      <td>-0.007791</td>\n",
       "      <td>-0.000937</td>\n",
       "      <td>-0.003221</td>\n",
       "      <td>0.008795</td>\n",
       "      <td>-0.001417</td>\n",
       "      <td>0.002310</td>\n",
       "      <td>0.006346</td>\n",
       "      <td>1.000000</td>\n",
       "      <td>-0.007986</td>\n",
       "      <td>0.001471</td>\n",
       "      <td>0.000545</td>\n",
       "      <td>0.008476</td>\n",
       "      <td>0.010038</td>\n",
       "      <td>0.011622</td>\n",
       "      <td>0.008764</td>\n",
       "      <td>0.009557</td>\n",
       "      <td>0.003748</td>\n",
       "      <td>-0.009078</td>\n",
       "      <td>-0.002954</td>\n",
       "      <td>0.001739</td>\n",
       "      <td>0.004448</td>\n",
       "      <td>0.007419</td>\n",
       "    </tr>\n",
       "    <tr>\n",
       "      <th>Open_Account</th>\n",
       "      <td>0.012302</td>\n",
       "      <td>0.001532</td>\n",
       "      <td>-0.010765</td>\n",
       "      <td>0.025559</td>\n",
       "      <td>-0.001318</td>\n",
       "      <td>0.012904</td>\n",
       "      <td>0.005237</td>\n",
       "      <td>0.011712</td>\n",
       "      <td>-0.007986</td>\n",
       "      <td>1.000000</td>\n",
       "      <td>-0.015691</td>\n",
       "      <td>0.010100</td>\n",
       "      <td>0.008146</td>\n",
       "      <td>0.003428</td>\n",
       "      <td>0.013349</td>\n",
       "      <td>0.005938</td>\n",
       "      <td>-0.002015</td>\n",
       "      <td>-0.007998</td>\n",
       "      <td>-0.016188</td>\n",
       "      <td>0.000099</td>\n",
       "      <td>-0.010596</td>\n",
       "      <td>0.003642</td>\n",
       "      <td>-0.011002</td>\n",
       "    </tr>\n",
       "    <tr>\n",
       "      <th>Public_Record</th>\n",
       "      <td>-0.004593</td>\n",
       "      <td>0.004317</td>\n",
       "      <td>0.008669</td>\n",
       "      <td>0.000138</td>\n",
       "      <td>0.007422</td>\n",
       "      <td>0.002113</td>\n",
       "      <td>-0.001985</td>\n",
       "      <td>0.003322</td>\n",
       "      <td>0.001471</td>\n",
       "      <td>-0.015691</td>\n",
       "      <td>1.000000</td>\n",
       "      <td>0.020626</td>\n",
       "      <td>-0.007509</td>\n",
       "      <td>0.006997</td>\n",
       "      <td>0.003096</td>\n",
       "      <td>0.016263</td>\n",
       "      <td>0.014123</td>\n",
       "      <td>0.002489</td>\n",
       "      <td>0.005407</td>\n",
       "      <td>0.009143</td>\n",
       "      <td>0.012338</td>\n",
       "      <td>0.001561</td>\n",
       "      <td>0.015993</td>\n",
       "    </tr>\n",
       "    <tr>\n",
       "      <th>Revolving_Balance</th>\n",
       "      <td>-0.003153</td>\n",
       "      <td>-0.005093</td>\n",
       "      <td>-0.010108</td>\n",
       "      <td>-0.000220</td>\n",
       "      <td>0.026364</td>\n",
       "      <td>0.017532</td>\n",
       "      <td>-0.008371</td>\n",
       "      <td>0.019543</td>\n",
       "      <td>0.000545</td>\n",
       "      <td>0.010100</td>\n",
       "      <td>0.020626</td>\n",
       "      <td>1.000000</td>\n",
       "      <td>-0.009898</td>\n",
       "      <td>0.001654</td>\n",
       "      <td>0.003504</td>\n",
       "      <td>0.005029</td>\n",
       "      <td>0.012523</td>\n",
       "      <td>-0.002703</td>\n",
       "      <td>-0.008333</td>\n",
       "      <td>0.001353</td>\n",
       "      <td>-0.010146</td>\n",
       "      <td>0.019986</td>\n",
       "      <td>-0.007008</td>\n",
       "    </tr>\n",
       "    <tr>\n",
       "      <th>Revolving_Utilities</th>\n",
       "      <td>0.022875</td>\n",
       "      <td>0.005498</td>\n",
       "      <td>-0.005211</td>\n",
       "      <td>-0.012066</td>\n",
       "      <td>0.001908</td>\n",
       "      <td>-0.004059</td>\n",
       "      <td>0.010379</td>\n",
       "      <td>-0.001337</td>\n",
       "      <td>0.008476</td>\n",
       "      <td>0.008146</td>\n",
       "      <td>-0.007509</td>\n",
       "      <td>-0.009898</td>\n",
       "      <td>1.000000</td>\n",
       "      <td>0.004274</td>\n",
       "      <td>0.008692</td>\n",
       "      <td>-0.001035</td>\n",
       "      <td>-0.000082</td>\n",
       "      <td>0.002199</td>\n",
       "      <td>0.009607</td>\n",
       "      <td>0.011629</td>\n",
       "      <td>-0.018567</td>\n",
       "      <td>-0.010732</td>\n",
       "      <td>-0.001106</td>\n",
       "    </tr>\n",
       "    <tr>\n",
       "      <th>Total_Accounts</th>\n",
       "      <td>0.002046</td>\n",
       "      <td>0.002477</td>\n",
       "      <td>-0.000516</td>\n",
       "      <td>0.004426</td>\n",
       "      <td>0.001799</td>\n",
       "      <td>0.032562</td>\n",
       "      <td>-0.005093</td>\n",
       "      <td>-0.000944</td>\n",
       "      <td>0.010038</td>\n",
       "      <td>0.003428</td>\n",
       "      <td>0.006997</td>\n",
       "      <td>0.001654</td>\n",
       "      <td>0.004274</td>\n",
       "      <td>1.000000</td>\n",
       "      <td>0.006916</td>\n",
       "      <td>0.010904</td>\n",
       "      <td>0.004201</td>\n",
       "      <td>0.013843</td>\n",
       "      <td>0.020048</td>\n",
       "      <td>0.000045</td>\n",
       "      <td>-0.012271</td>\n",
       "      <td>0.032974</td>\n",
       "      <td>-0.008202</td>\n",
       "    </tr>\n",
       "    <tr>\n",
       "      <th>Total_Received_Interest</th>\n",
       "      <td>-0.006127</td>\n",
       "      <td>0.003288</td>\n",
       "      <td>0.001204</td>\n",
       "      <td>0.010703</td>\n",
       "      <td>0.011286</td>\n",
       "      <td>-0.011855</td>\n",
       "      <td>0.013966</td>\n",
       "      <td>0.003550</td>\n",
       "      <td>0.011622</td>\n",
       "      <td>0.013349</td>\n",
       "      <td>0.003096</td>\n",
       "      <td>0.003504</td>\n",
       "      <td>0.008692</td>\n",
       "      <td>0.006916</td>\n",
       "      <td>1.000000</td>\n",
       "      <td>0.003441</td>\n",
       "      <td>0.000494</td>\n",
       "      <td>0.008697</td>\n",
       "      <td>0.001259</td>\n",
       "      <td>0.005411</td>\n",
       "      <td>0.006436</td>\n",
       "      <td>0.010203</td>\n",
       "      <td>0.003904</td>\n",
       "    </tr>\n",
       "    <tr>\n",
       "      <th>Total_Received_Late_Fee</th>\n",
       "      <td>0.005311</td>\n",
       "      <td>0.007350</td>\n",
       "      <td>0.002537</td>\n",
       "      <td>-0.006110</td>\n",
       "      <td>0.004238</td>\n",
       "      <td>0.004293</td>\n",
       "      <td>-0.006760</td>\n",
       "      <td>0.009934</td>\n",
       "      <td>0.008764</td>\n",
       "      <td>0.005938</td>\n",
       "      <td>0.016263</td>\n",
       "      <td>0.005029</td>\n",
       "      <td>-0.001035</td>\n",
       "      <td>0.010904</td>\n",
       "      <td>0.003441</td>\n",
       "      <td>1.000000</td>\n",
       "      <td>0.005807</td>\n",
       "      <td>0.006097</td>\n",
       "      <td>0.006773</td>\n",
       "      <td>0.008422</td>\n",
       "      <td>0.003914</td>\n",
       "      <td>0.009810</td>\n",
       "      <td>0.004571</td>\n",
       "    </tr>\n",
       "    <tr>\n",
       "      <th>Recoveries</th>\n",
       "      <td>-0.001279</td>\n",
       "      <td>0.007617</td>\n",
       "      <td>0.001113</td>\n",
       "      <td>-0.020829</td>\n",
       "      <td>0.009209</td>\n",
       "      <td>-0.000535</td>\n",
       "      <td>-0.004447</td>\n",
       "      <td>0.017809</td>\n",
       "      <td>0.009557</td>\n",
       "      <td>-0.002015</td>\n",
       "      <td>0.014123</td>\n",
       "      <td>0.012523</td>\n",
       "      <td>-0.000082</td>\n",
       "      <td>0.004201</td>\n",
       "      <td>0.000494</td>\n",
       "      <td>0.005807</td>\n",
       "      <td>1.000000</td>\n",
       "      <td>0.011134</td>\n",
       "      <td>0.003286</td>\n",
       "      <td>0.004488</td>\n",
       "      <td>0.004624</td>\n",
       "      <td>-0.000789</td>\n",
       "      <td>-0.005655</td>\n",
       "    </tr>\n",
       "    <tr>\n",
       "      <th>Collection_Recovery_Fee</th>\n",
       "      <td>-0.003177</td>\n",
       "      <td>-0.000281</td>\n",
       "      <td>-0.012142</td>\n",
       "      <td>-0.008659</td>\n",
       "      <td>0.002108</td>\n",
       "      <td>-0.003965</td>\n",
       "      <td>-0.000323</td>\n",
       "      <td>0.007405</td>\n",
       "      <td>0.003748</td>\n",
       "      <td>-0.007998</td>\n",
       "      <td>0.002489</td>\n",
       "      <td>-0.002703</td>\n",
       "      <td>0.002199</td>\n",
       "      <td>0.013843</td>\n",
       "      <td>0.008697</td>\n",
       "      <td>0.006097</td>\n",
       "      <td>0.011134</td>\n",
       "      <td>1.000000</td>\n",
       "      <td>0.005551</td>\n",
       "      <td>0.011568</td>\n",
       "      <td>0.003448</td>\n",
       "      <td>-0.007066</td>\n",
       "      <td>-0.009652</td>\n",
       "    </tr>\n",
       "    <tr>\n",
       "      <th>Last_week_Pay</th>\n",
       "      <td>-0.001745</td>\n",
       "      <td>-0.000791</td>\n",
       "      <td>0.003909</td>\n",
       "      <td>0.010249</td>\n",
       "      <td>-0.010905</td>\n",
       "      <td>-0.008658</td>\n",
       "      <td>0.009099</td>\n",
       "      <td>-0.001458</td>\n",
       "      <td>-0.009078</td>\n",
       "      <td>-0.016188</td>\n",
       "      <td>0.005407</td>\n",
       "      <td>-0.008333</td>\n",
       "      <td>0.009607</td>\n",
       "      <td>0.020048</td>\n",
       "      <td>0.001259</td>\n",
       "      <td>0.006773</td>\n",
       "      <td>0.003286</td>\n",
       "      <td>0.005551</td>\n",
       "      <td>1.000000</td>\n",
       "      <td>0.005122</td>\n",
       "      <td>0.000832</td>\n",
       "      <td>0.007909</td>\n",
       "      <td>0.003521</td>\n",
       "    </tr>\n",
       "    <tr>\n",
       "      <th>Total_Collection_Amount</th>\n",
       "      <td>-0.003200</td>\n",
       "      <td>0.008099</td>\n",
       "      <td>0.004853</td>\n",
       "      <td>-0.002444</td>\n",
       "      <td>0.000297</td>\n",
       "      <td>0.007839</td>\n",
       "      <td>0.000785</td>\n",
       "      <td>0.001419</td>\n",
       "      <td>-0.002954</td>\n",
       "      <td>0.000099</td>\n",
       "      <td>0.009143</td>\n",
       "      <td>0.001353</td>\n",
       "      <td>0.011629</td>\n",
       "      <td>0.000045</td>\n",
       "      <td>0.005411</td>\n",
       "      <td>0.008422</td>\n",
       "      <td>0.004488</td>\n",
       "      <td>0.011568</td>\n",
       "      <td>0.005122</td>\n",
       "      <td>1.000000</td>\n",
       "      <td>0.001420</td>\n",
       "      <td>0.009480</td>\n",
       "      <td>0.004243</td>\n",
       "    </tr>\n",
       "    <tr>\n",
       "      <th>Total_Current_Balance</th>\n",
       "      <td>-0.010527</td>\n",
       "      <td>-0.010759</td>\n",
       "      <td>0.000476</td>\n",
       "      <td>0.002283</td>\n",
       "      <td>-0.001005</td>\n",
       "      <td>0.012501</td>\n",
       "      <td>-0.019958</td>\n",
       "      <td>-0.007537</td>\n",
       "      <td>0.001739</td>\n",
       "      <td>-0.010596</td>\n",
       "      <td>0.012338</td>\n",
       "      <td>-0.010146</td>\n",
       "      <td>-0.018567</td>\n",
       "      <td>-0.012271</td>\n",
       "      <td>0.006436</td>\n",
       "      <td>0.003914</td>\n",
       "      <td>0.004624</td>\n",
       "      <td>0.003448</td>\n",
       "      <td>0.000832</td>\n",
       "      <td>0.001420</td>\n",
       "      <td>1.000000</td>\n",
       "      <td>0.002975</td>\n",
       "      <td>0.014764</td>\n",
       "    </tr>\n",
       "    <tr>\n",
       "      <th>Total_Revolving_Credit_Limit</th>\n",
       "      <td>0.003106</td>\n",
       "      <td>0.002588</td>\n",
       "      <td>0.010868</td>\n",
       "      <td>-0.003773</td>\n",
       "      <td>0.019041</td>\n",
       "      <td>0.011186</td>\n",
       "      <td>-0.010396</td>\n",
       "      <td>0.013561</td>\n",
       "      <td>0.004448</td>\n",
       "      <td>0.003642</td>\n",
       "      <td>0.001561</td>\n",
       "      <td>0.019986</td>\n",
       "      <td>-0.010732</td>\n",
       "      <td>0.032974</td>\n",
       "      <td>0.010203</td>\n",
       "      <td>0.009810</td>\n",
       "      <td>-0.000789</td>\n",
       "      <td>-0.007066</td>\n",
       "      <td>0.007909</td>\n",
       "      <td>0.009480</td>\n",
       "      <td>0.002975</td>\n",
       "      <td>1.000000</td>\n",
       "      <td>0.001922</td>\n",
       "    </tr>\n",
       "    <tr>\n",
       "      <th>Loan_Status</th>\n",
       "      <td>-0.010354</td>\n",
       "      <td>-0.002105</td>\n",
       "      <td>-0.005927</td>\n",
       "      <td>-0.001224</td>\n",
       "      <td>0.003304</td>\n",
       "      <td>0.008158</td>\n",
       "      <td>-0.000631</td>\n",
       "      <td>0.012758</td>\n",
       "      <td>0.007419</td>\n",
       "      <td>-0.011002</td>\n",
       "      <td>0.015993</td>\n",
       "      <td>-0.007008</td>\n",
       "      <td>-0.001106</td>\n",
       "      <td>-0.008202</td>\n",
       "      <td>0.003904</td>\n",
       "      <td>0.004571</td>\n",
       "      <td>-0.005655</td>\n",
       "      <td>-0.009652</td>\n",
       "      <td>0.003521</td>\n",
       "      <td>0.004243</td>\n",
       "      <td>0.014764</td>\n",
       "      <td>0.001922</td>\n",
       "      <td>1.000000</td>\n",
       "    </tr>\n",
       "  </tbody>\n",
       "</table>\n",
       "</div>"
      ],
      "text/plain": [
       "                              Loan_Amount  Funded_Amount  \\\n",
       "Loan_Amount                      1.000000       0.001487   \n",
       "Funded_Amount                    0.001487       1.000000   \n",
       "Funded_Amount_Investor           0.005562       0.016001   \n",
       "Term                             0.004426      -0.001693   \n",
       "Interest_Rate                   -0.001839       0.004867   \n",
       "Employment__Duration             0.016196      -0.007821   \n",
       "Debit_to_Income                  0.005976       0.002547   \n",
       "Delinquency_-_two_years         -0.005207       0.014373   \n",
       "Inquires_-_six_months            0.011838      -0.007791   \n",
       "Open_Account                     0.012302       0.001532   \n",
       "Public_Record                   -0.004593       0.004317   \n",
       "Revolving_Balance               -0.003153      -0.005093   \n",
       "Revolving_Utilities              0.022875       0.005498   \n",
       "Total_Accounts                   0.002046       0.002477   \n",
       "Total_Received_Interest         -0.006127       0.003288   \n",
       "Total_Received_Late_Fee          0.005311       0.007350   \n",
       "Recoveries                      -0.001279       0.007617   \n",
       "Collection_Recovery_Fee         -0.003177      -0.000281   \n",
       "Last_week_Pay                   -0.001745      -0.000791   \n",
       "Total_Collection_Amount         -0.003200       0.008099   \n",
       "Total_Current_Balance           -0.010527      -0.010759   \n",
       "Total_Revolving_Credit_Limit     0.003106       0.002588   \n",
       "Loan_Status                     -0.010354      -0.002105   \n",
       "\n",
       "                              Funded_Amount_Investor      Term  Interest_Rate  \\\n",
       "Loan_Amount                                 0.005562  0.004426      -0.001839   \n",
       "Funded_Amount                               0.016001 -0.001693       0.004867   \n",
       "Funded_Amount_Investor                      1.000000 -0.008258      -0.002412   \n",
       "Term                                       -0.008258  1.000000      -0.029173   \n",
       "Interest_Rate                              -0.002412 -0.029173       1.000000   \n",
       "Employment__Duration                       -0.005348 -0.023831      -0.000053   \n",
       "Debit_to_Income                             0.001473  0.004121      -0.008539   \n",
       "Delinquency_-_two_years                     0.004243 -0.003635       0.010869   \n",
       "Inquires_-_six_months                      -0.000937 -0.003221       0.008795   \n",
       "Open_Account                               -0.010765  0.025559      -0.001318   \n",
       "Public_Record                               0.008669  0.000138       0.007422   \n",
       "Revolving_Balance                          -0.010108 -0.000220       0.026364   \n",
       "Revolving_Utilities                        -0.005211 -0.012066       0.001908   \n",
       "Total_Accounts                             -0.000516  0.004426       0.001799   \n",
       "Total_Received_Interest                     0.001204  0.010703       0.011286   \n",
       "Total_Received_Late_Fee                     0.002537 -0.006110       0.004238   \n",
       "Recoveries                                  0.001113 -0.020829       0.009209   \n",
       "Collection_Recovery_Fee                    -0.012142 -0.008659       0.002108   \n",
       "Last_week_Pay                               0.003909  0.010249      -0.010905   \n",
       "Total_Collection_Amount                     0.004853 -0.002444       0.000297   \n",
       "Total_Current_Balance                       0.000476  0.002283      -0.001005   \n",
       "Total_Revolving_Credit_Limit                0.010868 -0.003773       0.019041   \n",
       "Loan_Status                                -0.005927 -0.001224       0.003304   \n",
       "\n",
       "                              Employment__Duration  Debit_to_Income  \\\n",
       "Loan_Amount                               0.016196         0.005976   \n",
       "Funded_Amount                            -0.007821         0.002547   \n",
       "Funded_Amount_Investor                   -0.005348         0.001473   \n",
       "Term                                     -0.023831         0.004121   \n",
       "Interest_Rate                            -0.000053        -0.008539   \n",
       "Employment__Duration                      1.000000         0.017417   \n",
       "Debit_to_Income                           0.017417         1.000000   \n",
       "Delinquency_-_two_years                  -0.003107        -0.004955   \n",
       "Inquires_-_six_months                    -0.001417         0.002310   \n",
       "Open_Account                              0.012904         0.005237   \n",
       "Public_Record                             0.002113        -0.001985   \n",
       "Revolving_Balance                         0.017532        -0.008371   \n",
       "Revolving_Utilities                      -0.004059         0.010379   \n",
       "Total_Accounts                            0.032562        -0.005093   \n",
       "Total_Received_Interest                  -0.011855         0.013966   \n",
       "Total_Received_Late_Fee                   0.004293        -0.006760   \n",
       "Recoveries                               -0.000535        -0.004447   \n",
       "Collection_Recovery_Fee                  -0.003965        -0.000323   \n",
       "Last_week_Pay                            -0.008658         0.009099   \n",
       "Total_Collection_Amount                   0.007839         0.000785   \n",
       "Total_Current_Balance                     0.012501        -0.019958   \n",
       "Total_Revolving_Credit_Limit              0.011186        -0.010396   \n",
       "Loan_Status                               0.008158        -0.000631   \n",
       "\n",
       "                              Delinquency_-_two_years  Inquires_-_six_months  \\\n",
       "Loan_Amount                                 -0.005207               0.011838   \n",
       "Funded_Amount                                0.014373              -0.007791   \n",
       "Funded_Amount_Investor                       0.004243              -0.000937   \n",
       "Term                                        -0.003635              -0.003221   \n",
       "Interest_Rate                                0.010869               0.008795   \n",
       "Employment__Duration                        -0.003107              -0.001417   \n",
       "Debit_to_Income                             -0.004955               0.002310   \n",
       "Delinquency_-_two_years                      1.000000               0.006346   \n",
       "Inquires_-_six_months                        0.006346               1.000000   \n",
       "Open_Account                                 0.011712              -0.007986   \n",
       "Public_Record                                0.003322               0.001471   \n",
       "Revolving_Balance                            0.019543               0.000545   \n",
       "Revolving_Utilities                         -0.001337               0.008476   \n",
       "Total_Accounts                              -0.000944               0.010038   \n",
       "Total_Received_Interest                      0.003550               0.011622   \n",
       "Total_Received_Late_Fee                      0.009934               0.008764   \n",
       "Recoveries                                   0.017809               0.009557   \n",
       "Collection_Recovery_Fee                      0.007405               0.003748   \n",
       "Last_week_Pay                               -0.001458              -0.009078   \n",
       "Total_Collection_Amount                      0.001419              -0.002954   \n",
       "Total_Current_Balance                       -0.007537               0.001739   \n",
       "Total_Revolving_Credit_Limit                 0.013561               0.004448   \n",
       "Loan_Status                                  0.012758               0.007419   \n",
       "\n",
       "                              Open_Account  Public_Record  Revolving_Balance  \\\n",
       "Loan_Amount                       0.012302      -0.004593          -0.003153   \n",
       "Funded_Amount                     0.001532       0.004317          -0.005093   \n",
       "Funded_Amount_Investor           -0.010765       0.008669          -0.010108   \n",
       "Term                              0.025559       0.000138          -0.000220   \n",
       "Interest_Rate                    -0.001318       0.007422           0.026364   \n",
       "Employment__Duration              0.012904       0.002113           0.017532   \n",
       "Debit_to_Income                   0.005237      -0.001985          -0.008371   \n",
       "Delinquency_-_two_years           0.011712       0.003322           0.019543   \n",
       "Inquires_-_six_months            -0.007986       0.001471           0.000545   \n",
       "Open_Account                      1.000000      -0.015691           0.010100   \n",
       "Public_Record                    -0.015691       1.000000           0.020626   \n",
       "Revolving_Balance                 0.010100       0.020626           1.000000   \n",
       "Revolving_Utilities               0.008146      -0.007509          -0.009898   \n",
       "Total_Accounts                    0.003428       0.006997           0.001654   \n",
       "Total_Received_Interest           0.013349       0.003096           0.003504   \n",
       "Total_Received_Late_Fee           0.005938       0.016263           0.005029   \n",
       "Recoveries                       -0.002015       0.014123           0.012523   \n",
       "Collection_Recovery_Fee          -0.007998       0.002489          -0.002703   \n",
       "Last_week_Pay                    -0.016188       0.005407          -0.008333   \n",
       "Total_Collection_Amount           0.000099       0.009143           0.001353   \n",
       "Total_Current_Balance            -0.010596       0.012338          -0.010146   \n",
       "Total_Revolving_Credit_Limit      0.003642       0.001561           0.019986   \n",
       "Loan_Status                      -0.011002       0.015993          -0.007008   \n",
       "\n",
       "                              Revolving_Utilities  Total_Accounts  \\\n",
       "Loan_Amount                              0.022875        0.002046   \n",
       "Funded_Amount                            0.005498        0.002477   \n",
       "Funded_Amount_Investor                  -0.005211       -0.000516   \n",
       "Term                                    -0.012066        0.004426   \n",
       "Interest_Rate                            0.001908        0.001799   \n",
       "Employment__Duration                    -0.004059        0.032562   \n",
       "Debit_to_Income                          0.010379       -0.005093   \n",
       "Delinquency_-_two_years                 -0.001337       -0.000944   \n",
       "Inquires_-_six_months                    0.008476        0.010038   \n",
       "Open_Account                             0.008146        0.003428   \n",
       "Public_Record                           -0.007509        0.006997   \n",
       "Revolving_Balance                       -0.009898        0.001654   \n",
       "Revolving_Utilities                      1.000000        0.004274   \n",
       "Total_Accounts                           0.004274        1.000000   \n",
       "Total_Received_Interest                  0.008692        0.006916   \n",
       "Total_Received_Late_Fee                 -0.001035        0.010904   \n",
       "Recoveries                              -0.000082        0.004201   \n",
       "Collection_Recovery_Fee                  0.002199        0.013843   \n",
       "Last_week_Pay                            0.009607        0.020048   \n",
       "Total_Collection_Amount                  0.011629        0.000045   \n",
       "Total_Current_Balance                   -0.018567       -0.012271   \n",
       "Total_Revolving_Credit_Limit            -0.010732        0.032974   \n",
       "Loan_Status                             -0.001106       -0.008202   \n",
       "\n",
       "                              Total_Received_Interest  \\\n",
       "Loan_Amount                                 -0.006127   \n",
       "Funded_Amount                                0.003288   \n",
       "Funded_Amount_Investor                       0.001204   \n",
       "Term                                         0.010703   \n",
       "Interest_Rate                                0.011286   \n",
       "Employment__Duration                        -0.011855   \n",
       "Debit_to_Income                              0.013966   \n",
       "Delinquency_-_two_years                      0.003550   \n",
       "Inquires_-_six_months                        0.011622   \n",
       "Open_Account                                 0.013349   \n",
       "Public_Record                                0.003096   \n",
       "Revolving_Balance                            0.003504   \n",
       "Revolving_Utilities                          0.008692   \n",
       "Total_Accounts                               0.006916   \n",
       "Total_Received_Interest                      1.000000   \n",
       "Total_Received_Late_Fee                      0.003441   \n",
       "Recoveries                                   0.000494   \n",
       "Collection_Recovery_Fee                      0.008697   \n",
       "Last_week_Pay                                0.001259   \n",
       "Total_Collection_Amount                      0.005411   \n",
       "Total_Current_Balance                        0.006436   \n",
       "Total_Revolving_Credit_Limit                 0.010203   \n",
       "Loan_Status                                  0.003904   \n",
       "\n",
       "                              Total_Received_Late_Fee  Recoveries  \\\n",
       "Loan_Amount                                  0.005311   -0.001279   \n",
       "Funded_Amount                                0.007350    0.007617   \n",
       "Funded_Amount_Investor                       0.002537    0.001113   \n",
       "Term                                        -0.006110   -0.020829   \n",
       "Interest_Rate                                0.004238    0.009209   \n",
       "Employment__Duration                         0.004293   -0.000535   \n",
       "Debit_to_Income                             -0.006760   -0.004447   \n",
       "Delinquency_-_two_years                      0.009934    0.017809   \n",
       "Inquires_-_six_months                        0.008764    0.009557   \n",
       "Open_Account                                 0.005938   -0.002015   \n",
       "Public_Record                                0.016263    0.014123   \n",
       "Revolving_Balance                            0.005029    0.012523   \n",
       "Revolving_Utilities                         -0.001035   -0.000082   \n",
       "Total_Accounts                               0.010904    0.004201   \n",
       "Total_Received_Interest                      0.003441    0.000494   \n",
       "Total_Received_Late_Fee                      1.000000    0.005807   \n",
       "Recoveries                                   0.005807    1.000000   \n",
       "Collection_Recovery_Fee                      0.006097    0.011134   \n",
       "Last_week_Pay                                0.006773    0.003286   \n",
       "Total_Collection_Amount                      0.008422    0.004488   \n",
       "Total_Current_Balance                        0.003914    0.004624   \n",
       "Total_Revolving_Credit_Limit                 0.009810   -0.000789   \n",
       "Loan_Status                                  0.004571   -0.005655   \n",
       "\n",
       "                              Collection_Recovery_Fee  Last_week_Pay  \\\n",
       "Loan_Amount                                 -0.003177      -0.001745   \n",
       "Funded_Amount                               -0.000281      -0.000791   \n",
       "Funded_Amount_Investor                      -0.012142       0.003909   \n",
       "Term                                        -0.008659       0.010249   \n",
       "Interest_Rate                                0.002108      -0.010905   \n",
       "Employment__Duration                        -0.003965      -0.008658   \n",
       "Debit_to_Income                             -0.000323       0.009099   \n",
       "Delinquency_-_two_years                      0.007405      -0.001458   \n",
       "Inquires_-_six_months                        0.003748      -0.009078   \n",
       "Open_Account                                -0.007998      -0.016188   \n",
       "Public_Record                                0.002489       0.005407   \n",
       "Revolving_Balance                           -0.002703      -0.008333   \n",
       "Revolving_Utilities                          0.002199       0.009607   \n",
       "Total_Accounts                               0.013843       0.020048   \n",
       "Total_Received_Interest                      0.008697       0.001259   \n",
       "Total_Received_Late_Fee                      0.006097       0.006773   \n",
       "Recoveries                                   0.011134       0.003286   \n",
       "Collection_Recovery_Fee                      1.000000       0.005551   \n",
       "Last_week_Pay                                0.005551       1.000000   \n",
       "Total_Collection_Amount                      0.011568       0.005122   \n",
       "Total_Current_Balance                        0.003448       0.000832   \n",
       "Total_Revolving_Credit_Limit                -0.007066       0.007909   \n",
       "Loan_Status                                 -0.009652       0.003521   \n",
       "\n",
       "                              Total_Collection_Amount  Total_Current_Balance  \\\n",
       "Loan_Amount                                 -0.003200              -0.010527   \n",
       "Funded_Amount                                0.008099              -0.010759   \n",
       "Funded_Amount_Investor                       0.004853               0.000476   \n",
       "Term                                        -0.002444               0.002283   \n",
       "Interest_Rate                                0.000297              -0.001005   \n",
       "Employment__Duration                         0.007839               0.012501   \n",
       "Debit_to_Income                              0.000785              -0.019958   \n",
       "Delinquency_-_two_years                      0.001419              -0.007537   \n",
       "Inquires_-_six_months                       -0.002954               0.001739   \n",
       "Open_Account                                 0.000099              -0.010596   \n",
       "Public_Record                                0.009143               0.012338   \n",
       "Revolving_Balance                            0.001353              -0.010146   \n",
       "Revolving_Utilities                          0.011629              -0.018567   \n",
       "Total_Accounts                               0.000045              -0.012271   \n",
       "Total_Received_Interest                      0.005411               0.006436   \n",
       "Total_Received_Late_Fee                      0.008422               0.003914   \n",
       "Recoveries                                   0.004488               0.004624   \n",
       "Collection_Recovery_Fee                      0.011568               0.003448   \n",
       "Last_week_Pay                                0.005122               0.000832   \n",
       "Total_Collection_Amount                      1.000000               0.001420   \n",
       "Total_Current_Balance                        0.001420               1.000000   \n",
       "Total_Revolving_Credit_Limit                 0.009480               0.002975   \n",
       "Loan_Status                                  0.004243               0.014764   \n",
       "\n",
       "                              Total_Revolving_Credit_Limit  Loan_Status  \n",
       "Loan_Amount                                       0.003106    -0.010354  \n",
       "Funded_Amount                                     0.002588    -0.002105  \n",
       "Funded_Amount_Investor                            0.010868    -0.005927  \n",
       "Term                                             -0.003773    -0.001224  \n",
       "Interest_Rate                                     0.019041     0.003304  \n",
       "Employment__Duration                              0.011186     0.008158  \n",
       "Debit_to_Income                                  -0.010396    -0.000631  \n",
       "Delinquency_-_two_years                           0.013561     0.012758  \n",
       "Inquires_-_six_months                             0.004448     0.007419  \n",
       "Open_Account                                      0.003642    -0.011002  \n",
       "Public_Record                                     0.001561     0.015993  \n",
       "Revolving_Balance                                 0.019986    -0.007008  \n",
       "Revolving_Utilities                              -0.010732    -0.001106  \n",
       "Total_Accounts                                    0.032974    -0.008202  \n",
       "Total_Received_Interest                           0.010203     0.003904  \n",
       "Total_Received_Late_Fee                           0.009810     0.004571  \n",
       "Recoveries                                       -0.000789    -0.005655  \n",
       "Collection_Recovery_Fee                          -0.007066    -0.009652  \n",
       "Last_week_Pay                                     0.007909     0.003521  \n",
       "Total_Collection_Amount                           0.009480     0.004243  \n",
       "Total_Current_Balance                             0.002975     0.014764  \n",
       "Total_Revolving_Credit_Limit                      1.000000     0.001922  \n",
       "Loan_Status                                       0.001922     1.000000  "
      ]
     },
     "execution_count": 143,
     "metadata": {},
     "output_type": "execute_result"
    }
   ],
   "source": [
    "dataset_pd.corr()"
   ]
  },
  {
   "cell_type": "markdown",
   "id": "a32a21d0",
   "metadata": {},
   "source": [
    "Uses a heatmap to visualize correlations between attributes."
   ]
  },
  {
   "cell_type": "code",
   "execution_count": 144,
   "id": "c9a45b1c",
   "metadata": {
    "scrolled": false
   },
   "outputs": [
    {
     "data": {
      "image/png": "[encoded data removed]",
      "text/plain": [
       "<Figure size 864x576 with 2 Axes>"
      ]
     },
     "metadata": {
      "needs_background": "light"
     },
     "output_type": "display_data"
    }
   ],
   "source": [
    "plt.figure(figsize=(12,8))\n",
    "sns_plot = sns.heatmap(dataset_pd.corr(), vmin=-0.1, vmax=1,annot=False, cmap='Blues')\n",
    "sns_plot.figure.savefig('heatmap.png')"
   ]
  },
  {
   "cell_type": "markdown",
   "id": "3de42c1f",
   "metadata": {},
   "source": [
    "Distribution of `Grades` by `Home_Ownership`."
   ]
  },
  {
   "cell_type": "code",
   "execution_count": 145,
   "id": "2baa18aa",
   "metadata": {
    "scrolled": true
   },
   "outputs": [
    {
     "data": {
      "image/png": "[encoded data removed]",
      "text/plain": [
       "<Figure size 576x360 with 1 Axes>"
      ]
     },
     "metadata": {
      "needs_background": "light"
     },
     "output_type": "display_data"
    }
   ],
   "source": [
    "plt.figure(figsize = (8,5))\n",
    "plt.title('Grades by Home Ownership', fontsize = \"16\")\n",
    "sns.countplot(y=\"Grade\", hue=\"Home_Ownership\", order=['A','B','C','D','E','F','G'], data=dataset_pd)\n",
    "plt.xlabel('Count')\n",
    "plt.ylabel('Grade')\n",
    "plt.show()"
   ]
  },
  {
   "cell_type": "markdown",
   "id": "f935f542",
   "metadata": {},
   "source": [
    "Distribution of `Grades` by `Loan_Status`."
   ]
  },
  {
   "cell_type": "code",
   "execution_count": 146,
   "id": "6b71392b",
   "metadata": {},
   "outputs": [
    {
     "data": {
      "image/png": "[encoded data removed]",
      "text/plain": [
       "<Figure size 576x360 with 1 Axes>"
      ]
     },
     "metadata": {
      "needs_background": "light"
     },
     "output_type": "display_data"
    }
   ],
   "source": [
    "plt.figure(figsize = (8,5))\n",
    "plt.title('Grades by Loan Status', fontsize = \"16\")\n",
    "sns.countplot(y=\"Grade\", hue=\"Loan_Status\", order=['A','B','C','D','E','F','G'], data=dataset_pd)\n",
    "plt.xlabel('Count')\n",
    "plt.ylabel('Grade')\n",
    "plt.show()"
   ]
  },
  {
   "cell_type": "markdown",
   "id": "80a9e09c",
   "metadata": {},
   "source": [
    "Piechart of `Verification_Status`."
   ]
  },
  {
   "cell_type": "code",
   "execution_count": 147,
   "id": "44adf02f",
   "metadata": {
    "scrolled": false
   },
   "outputs": [
    {
     "data": {
      "image/png": "[encoded data removed]",
      "text/plain": [
       "<Figure size 432x288 with 1 Axes>"
      ]
     },
     "metadata": {},
     "output_type": "display_data"
    }
   ],
   "source": [
    "dataset_pd.groupby('Verification_Status').size().plot(kind='pie', title='Verification Status', autopct='%.0f%%')\n",
    "plt.axis('off')\n",
    "plt.savefig('piechart.png')"
   ]
  },
  {
   "cell_type": "markdown",
   "id": "aee3f0c8",
   "metadata": {},
   "source": [
    "Number of values in `Verification_Status`."
   ]
  },
  {
   "cell_type": "code",
   "execution_count": 148,
   "id": "518b790d",
   "metadata": {
    "scrolled": true
   },
   "outputs": [
    {
     "data": {
      "text/plain": [
       "Source Verified    13383\n",
       "Verified            7431\n",
       "Not Verified        6635\n",
       "Name: Verification_Status, dtype: int64"
      ]
     },
     "execution_count": 148,
     "metadata": {},
     "output_type": "execute_result"
    }
   ],
   "source": [
    "dataset_pd['Verification_Status'].value_counts()"
   ]
  },
  {
   "cell_type": "markdown",
   "id": "7a0851b3",
   "metadata": {},
   "source": [
    "Replace 'Source Verified' with 'Verified'."
   ]
  },
  {
   "cell_type": "code",
   "execution_count": 149,
   "id": "07f9e718",
   "metadata": {},
   "outputs": [],
   "source": [
    "dataset_pd['Verification_Status'].replace('Source Verified','Verified',inplace=True)"
   ]
  },
  {
   "cell_type": "markdown",
   "id": "dfe82b48",
   "metadata": {},
   "source": [
    "Number of values in `Verification_Status` after changes."
   ]
  },
  {
   "cell_type": "code",
   "execution_count": 150,
   "id": "2510daf2",
   "metadata": {},
   "outputs": [
    {
     "data": {
      "text/plain": [
       "Verified        20814\n",
       "Not Verified     6635\n",
       "Name: Verification_Status, dtype: int64"
      ]
     },
     "execution_count": 150,
     "metadata": {},
     "output_type": "execute_result"
    }
   ],
   "source": [
    "dataset_pd['Verification_Status'].value_counts()"
   ]
  },
  {
   "cell_type": "markdown",
   "id": "7aa2b913",
   "metadata": {},
   "source": [
    "Number of values in `Verification_Status` after changes on a piechart."
   ]
  },
  {
   "cell_type": "code",
   "execution_count": 151,
   "id": "9d60ef93",
   "metadata": {
    "scrolled": true
   },
   "outputs": [
    {
     "data": {
      "image/png": "[encoded data removed]",
      "text/plain": [
       "<Figure size 432x288 with 1 Axes>"
      ]
     },
     "metadata": {},
     "output_type": "display_data"
    }
   ],
   "source": [
    "dataset_pd.groupby('Verification_Status').size().plot(kind='pie', title='Verification Status', autopct='%.0f%%')\n",
    "plt.axis('off')\n",
    "plt.savefig('piechart.png')"
   ]
  },
  {
   "cell_type": "markdown",
   "id": "8e651a44",
   "metadata": {},
   "source": [
    "Boxplot of `Loan_Amount` by `Loan_Title`."
   ]
  },
  {
   "cell_type": "code",
   "execution_count": 152,
   "id": "4839178f",
   "metadata": {
    "scrolled": false
   },
   "outputs": [
    {
     "data": {
      "image/png": "[encoded data removed]",
      "text/plain": [
       "<Figure size 720x576 with 1 Axes>"
      ]
     },
     "metadata": {
      "needs_background": "light"
     },
     "output_type": "display_data"
    }
   ],
   "source": [
    "plt.figure(figsize = (10,8))\n",
    "sns.boxplot(x='Loan_Amount', y='Loan_Title', data=dataset_pd, color='#0099ff', orient='h')\n",
    "plt.xlabel('Loan Amount')\n",
    "plt.ylabel('Loan Title')\n",
    "plt.show()"
   ]
  },
  {
   "cell_type": "markdown",
   "id": "dd76df80",
   "metadata": {},
   "source": [
    "Boxplot of `Loan_Amount`."
   ]
  },
  {
   "cell_type": "code",
   "execution_count": 153,
   "id": "7db09d88",
   "metadata": {},
   "outputs": [
    {
     "data": {
      "image/png": "[encoded data removed]",
      "text/plain": [
       "<Figure size 288x432 with 1 Axes>"
      ]
     },
     "metadata": {
      "needs_background": "light"
     },
     "output_type": "display_data"
    }
   ],
   "source": [
    "plt.figure(figsize = (4,6))\n",
    "sns.boxplot(y='Loan_Amount', data=dataset_pd, color='#0099ff')\n",
    "plt.xlabel('Loan Amount')\n",
    "plt.ylabel('Count')\n",
    "plt.show()"
   ]
  },
  {
   "cell_type": "markdown",
   "id": "e9518adc",
   "metadata": {},
   "source": [
    "Boxplot of `Application_Type` by `Loan_Amount`."
   ]
  },
  {
   "cell_type": "code",
   "execution_count": 154,
   "id": "53c5d92c",
   "metadata": {
    "scrolled": true
   },
   "outputs": [
    {
     "data": {
      "text/plain": [
       "<AxesSubplot:xlabel='Application_Type', ylabel='Loan_Amount'>"
      ]
     },
     "execution_count": 154,
     "metadata": {},
     "output_type": "execute_result"
    },
    {
     "data": {
      "image/png": "[encoded data removed]",
      "text/plain": [
       "<Figure size 432x288 with 1 Axes>"
      ]
     },
     "metadata": {
      "needs_background": "light"
     },
     "output_type": "display_data"
    }
   ],
   "source": [
    "sns.boxplot(x='Application_Type', y='Loan_Amount', data=dataset_pd)"
   ]
  },
  {
   "cell_type": "markdown",
   "id": "3209058c",
   "metadata": {},
   "source": [
    "Value counts of the target `Loan_Status`."
   ]
  },
  {
   "cell_type": "code",
   "execution_count": 155,
   "id": "ab6fbc3d",
   "metadata": {
    "scrolled": false
   },
   "outputs": [
    {
     "data": {
      "text/plain": [
       "0    24926\n",
       "1     2523\n",
       "Name: Loan_Status, dtype: int64"
      ]
     },
     "execution_count": 155,
     "metadata": {},
     "output_type": "execute_result"
    }
   ],
   "source": [
    "dataset_pd['Loan_Status'].value_counts()"
   ]
  },
  {
   "cell_type": "markdown",
   "id": "d6c3bf8a",
   "metadata": {},
   "source": [
    "A bar chart of the Non Defaulters vs. Defaulters (Non Defaulter = 0, Defaulter = 1)"
   ]
  },
  {
   "cell_type": "code",
   "execution_count": 156,
   "id": "d1aba0ec",
   "metadata": {},
   "outputs": [
    {
     "data": {
      "image/png": "[encoded data removed]",
      "text/plain": [
       "<Figure size 576x360 with 1 Axes>"
      ]
     },
     "metadata": {
      "needs_background": "light"
     },
     "output_type": "display_data"
    }
   ],
   "source": [
    "plt.figure(figsize = (8,5))\n",
    "plt.title('Loan Status', fontsize = \"16\")\n",
    "sns.countplot(x = 'Loan_Status', data = dataset_pd)\n",
    "plt.xlabel('Loan Status')\n",
    "plt.ylabel('Count')\n",
    "plt.show()"
   ]
  },
  {
   "cell_type": "markdown",
   "id": "c2358650",
   "metadata": {},
   "source": [
    "Select categorical attributes and put them in a list."
   ]
  },
  {
   "cell_type": "code",
   "execution_count": 157,
   "id": "2a531d9b",
   "metadata": {},
   "outputs": [
    {
     "data": {
      "text/plain": [
       "['Batch_Enrolled',\n",
       " 'Grade',\n",
       " 'Sub_Grade',\n",
       " 'Home_Ownership',\n",
       " 'Verification_Status',\n",
       " 'Loan_Title',\n",
       " 'Initial_List_Status',\n",
       " 'Application_Type']"
      ]
     },
     "execution_count": 157,
     "metadata": {},
     "output_type": "execute_result"
    }
   ],
   "source": [
    "categorical_columns = dataset_pd.select_dtypes(include=object).columns.tolist()\n",
    "categorical_columns"
   ]
  },
  {
   "cell_type": "markdown",
   "id": "48e8501c",
   "metadata": {},
   "source": [
    "The LabelEncoder converts each value in a categorical column into a numerical value."
   ]
  },
  {
   "cell_type": "code",
   "execution_count": 158,
   "id": "6066d644",
   "metadata": {},
   "outputs": [],
   "source": [
    "le= LabelEncoder()\n",
    "\n",
    "for col in categorical_columns:\n",
    "    dataset_pd[col] = le.fit_transform(dataset_pd[col])"
   ]
  },
  {
   "cell_type": "code",
   "execution_count": 159,
   "id": "75b711d8",
   "metadata": {},
   "outputs": [
    {
     "data": {
      "text/html": [
       "<div>\n",
       "<style scoped>\n",
       "    .dataframe tbody tr th:only-of-type {\n",
       "        vertical-align: middle;\n",
       "    }\n",
       "\n",
       "    .dataframe tbody tr th {\n",
       "        vertical-align: top;\n",
       "    }\n",
       "\n",
       "    .dataframe thead th {\n",
       "        text-align: right;\n",
       "    }\n",
       "</style>\n",
       "<table border=\"1\" class=\"dataframe\">\n",
       "  <thead>\n",
       "    <tr style=\"text-align: right;\">\n",
       "      <th></th>\n",
       "      <th>Loan_Amount</th>\n",
       "      <th>Funded_Amount</th>\n",
       "      <th>Funded_Amount_Investor</th>\n",
       "      <th>Term</th>\n",
       "      <th>Batch_Enrolled</th>\n",
       "      <th>Interest_Rate</th>\n",
       "      <th>Grade</th>\n",
       "      <th>Sub_Grade</th>\n",
       "      <th>Home_Ownership</th>\n",
       "      <th>Employment__Duration</th>\n",
       "      <th>Verification_Status</th>\n",
       "      <th>Loan_Title</th>\n",
       "      <th>Debit_to_Income</th>\n",
       "      <th>Delinquency_-_two_years</th>\n",
       "      <th>Inquires_-_six_months</th>\n",
       "      <th>Open_Account</th>\n",
       "      <th>Public_Record</th>\n",
       "      <th>Revolving_Balance</th>\n",
       "      <th>Revolving_Utilities</th>\n",
       "      <th>Total_Accounts</th>\n",
       "      <th>Initial_List_Status</th>\n",
       "      <th>Total_Received_Interest</th>\n",
       "      <th>Total_Received_Late_Fee</th>\n",
       "      <th>Recoveries</th>\n",
       "      <th>Collection_Recovery_Fee</th>\n",
       "      <th>Application_Type</th>\n",
       "      <th>Last_week_Pay</th>\n",
       "      <th>Total_Collection_Amount</th>\n",
       "      <th>Total_Current_Balance</th>\n",
       "      <th>Total_Revolving_Credit_Limit</th>\n",
       "      <th>Loan_Status</th>\n",
       "    </tr>\n",
       "  </thead>\n",
       "  <tbody>\n",
       "    <tr>\n",
       "      <th>0</th>\n",
       "      <td>12368</td>\n",
       "      <td>23353</td>\n",
       "      <td>16997.297810</td>\n",
       "      <td>59</td>\n",
       "      <td>40</td>\n",
       "      <td>17.371075</td>\n",
       "      <td>2</td>\n",
       "      <td>10</td>\n",
       "      <td>0</td>\n",
       "      <td>49456.48751</td>\n",
       "      <td>1</td>\n",
       "      <td>6</td>\n",
       "      <td>12.128233</td>\n",
       "      <td>0</td>\n",
       "      <td>0</td>\n",
       "      <td>12</td>\n",
       "      <td>0</td>\n",
       "      <td>4755</td>\n",
       "      <td>32.426285</td>\n",
       "      <td>26</td>\n",
       "      <td>1</td>\n",
       "      <td>1261.664743</td>\n",
       "      <td>0.092564</td>\n",
       "      <td>4.494961</td>\n",
       "      <td>0.658580</td>\n",
       "      <td>0</td>\n",
       "      <td>15</td>\n",
       "      <td>17</td>\n",
       "      <td>110910</td>\n",
       "      <td>28538</td>\n",
       "      <td>0</td>\n",
       "    </tr>\n",
       "    <tr>\n",
       "      <th>1</th>\n",
       "      <td>12622</td>\n",
       "      <td>26273</td>\n",
       "      <td>12185.938190</td>\n",
       "      <td>59</td>\n",
       "      <td>18</td>\n",
       "      <td>5.514894</td>\n",
       "      <td>5</td>\n",
       "      <td>4</td>\n",
       "      <td>2</td>\n",
       "      <td>89132.96235</td>\n",
       "      <td>0</td>\n",
       "      <td>8</td>\n",
       "      <td>24.683526</td>\n",
       "      <td>0</td>\n",
       "      <td>0</td>\n",
       "      <td>13</td>\n",
       "      <td>0</td>\n",
       "      <td>15003</td>\n",
       "      <td>70.224720</td>\n",
       "      <td>35</td>\n",
       "      <td>1</td>\n",
       "      <td>4840.606716</td>\n",
       "      <td>0.006874</td>\n",
       "      <td>1.845878</td>\n",
       "      <td>0.844812</td>\n",
       "      <td>0</td>\n",
       "      <td>26</td>\n",
       "      <td>6</td>\n",
       "      <td>319982</td>\n",
       "      <td>14930</td>\n",
       "      <td>0</td>\n",
       "    </tr>\n",
       "    <tr>\n",
       "      <th>2</th>\n",
       "      <td>4728</td>\n",
       "      <td>9827</td>\n",
       "      <td>11289.689940</td>\n",
       "      <td>58</td>\n",
       "      <td>0</td>\n",
       "      <td>10.910055</td>\n",
       "      <td>0</td>\n",
       "      <td>4</td>\n",
       "      <td>1</td>\n",
       "      <td>71210.30509</td>\n",
       "      <td>1</td>\n",
       "      <td>8</td>\n",
       "      <td>22.347563</td>\n",
       "      <td>0</td>\n",
       "      <td>0</td>\n",
       "      <td>13</td>\n",
       "      <td>0</td>\n",
       "      <td>6103</td>\n",
       "      <td>30.033721</td>\n",
       "      <td>42</td>\n",
       "      <td>0</td>\n",
       "      <td>2225.175608</td>\n",
       "      <td>0.134725</td>\n",
       "      <td>5.224270</td>\n",
       "      <td>0.280217</td>\n",
       "      <td>0</td>\n",
       "      <td>136</td>\n",
       "      <td>23</td>\n",
       "      <td>155286</td>\n",
       "      <td>19483</td>\n",
       "      <td>0</td>\n",
       "    </tr>\n",
       "    <tr>\n",
       "      <th>3</th>\n",
       "      <td>27493</td>\n",
       "      <td>16144</td>\n",
       "      <td>7611.422039</td>\n",
       "      <td>58</td>\n",
       "      <td>27</td>\n",
       "      <td>10.154038</td>\n",
       "      <td>0</td>\n",
       "      <td>18</td>\n",
       "      <td>1</td>\n",
       "      <td>121574.02920</td>\n",
       "      <td>0</td>\n",
       "      <td>3</td>\n",
       "      <td>7.988375</td>\n",
       "      <td>0</td>\n",
       "      <td>0</td>\n",
       "      <td>11</td>\n",
       "      <td>0</td>\n",
       "      <td>3858</td>\n",
       "      <td>8.466361</td>\n",
       "      <td>25</td>\n",
       "      <td>0</td>\n",
       "      <td>19.631548</td>\n",
       "      <td>0.019703</td>\n",
       "      <td>0.606444</td>\n",
       "      <td>0.209944</td>\n",
       "      <td>0</td>\n",
       "      <td>62</td>\n",
       "      <td>34</td>\n",
       "      <td>259609</td>\n",
       "      <td>39157</td>\n",
       "      <td>0</td>\n",
       "    </tr>\n",
       "    <tr>\n",
       "      <th>4</th>\n",
       "      <td>21095</td>\n",
       "      <td>13706</td>\n",
       "      <td>16966.260780</td>\n",
       "      <td>59</td>\n",
       "      <td>18</td>\n",
       "      <td>12.527165</td>\n",
       "      <td>1</td>\n",
       "      <td>20</td>\n",
       "      <td>0</td>\n",
       "      <td>73015.69347</td>\n",
       "      <td>1</td>\n",
       "      <td>2</td>\n",
       "      <td>13.249020</td>\n",
       "      <td>0</td>\n",
       "      <td>0</td>\n",
       "      <td>13</td>\n",
       "      <td>0</td>\n",
       "      <td>3190</td>\n",
       "      <td>81.842406</td>\n",
       "      <td>19</td>\n",
       "      <td>1</td>\n",
       "      <td>646.127838</td>\n",
       "      <td>0.011499</td>\n",
       "      <td>7.934989</td>\n",
       "      <td>0.672915</td>\n",
       "      <td>0</td>\n",
       "      <td>88</td>\n",
       "      <td>26</td>\n",
       "      <td>151563</td>\n",
       "      <td>17724</td>\n",
       "      <td>0</td>\n",
       "    </tr>\n",
       "  </tbody>\n",
       "</table>\n",
       "</div>"
      ],
      "text/plain": [
       "   Loan_Amount  Funded_Amount  Funded_Amount_Investor  Term  Batch_Enrolled  \\\n",
       "0        12368          23353            16997.297810    59              40   \n",
       "1        12622          26273            12185.938190    59              18   \n",
       "2         4728           9827            11289.689940    58               0   \n",
       "3        27493          16144             7611.422039    58              27   \n",
       "4        21095          13706            16966.260780    59              18   \n",
       "\n",
       "   Interest_Rate  Grade  Sub_Grade  Home_Ownership  Employment__Duration  \\\n",
       "0      17.371075      2         10               0           49456.48751   \n",
       "1       5.514894      5          4               2           89132.96235   \n",
       "2      10.910055      0          4               1           71210.30509   \n",
       "3      10.154038      0         18               1          121574.02920   \n",
       "4      12.527165      1         20               0           73015.69347   \n",
       "\n",
       "   Verification_Status  Loan_Title  Debit_to_Income  Delinquency_-_two_years  \\\n",
       "0                    1           6        12.128233                        0   \n",
       "1                    0           8        24.683526                        0   \n",
       "2                    1           8        22.347563                        0   \n",
       "3                    0           3         7.988375                        0   \n",
       "4                    1           2        13.249020                        0   \n",
       "\n",
       "   Inquires_-_six_months  Open_Account  Public_Record  Revolving_Balance  \\\n",
       "0                      0            12              0               4755   \n",
       "1                      0            13              0              15003   \n",
       "2                      0            13              0               6103   \n",
       "3                      0            11              0               3858   \n",
       "4                      0            13              0               3190   \n",
       "\n",
       "   Revolving_Utilities  Total_Accounts  Initial_List_Status  \\\n",
       "0            32.426285              26                    1   \n",
       "1            70.224720              35                    1   \n",
       "2            30.033721              42                    0   \n",
       "3             8.466361              25                    0   \n",
       "4            81.842406              19                    1   \n",
       "\n",
       "   Total_Received_Interest  Total_Received_Late_Fee  Recoveries  \\\n",
       "0              1261.664743                 0.092564    4.494961   \n",
       "1              4840.606716                 0.006874    1.845878   \n",
       "2              2225.175608                 0.134725    5.224270   \n",
       "3                19.631548                 0.019703    0.606444   \n",
       "4               646.127838                 0.011499    7.934989   \n",
       "\n",
       "   Collection_Recovery_Fee  Application_Type  Last_week_Pay  \\\n",
       "0                 0.658580                 0             15   \n",
       "1                 0.844812                 0             26   \n",
       "2                 0.280217                 0            136   \n",
       "3                 0.209944                 0             62   \n",
       "4                 0.672915                 0             88   \n",
       "\n",
       "   Total_Collection_Amount  Total_Current_Balance  \\\n",
       "0                       17                 110910   \n",
       "1                        6                 319982   \n",
       "2                       23                 155286   \n",
       "3                       34                 259609   \n",
       "4                       26                 151563   \n",
       "\n",
       "   Total_Revolving_Credit_Limit  Loan_Status  \n",
       "0                         28538            0  \n",
       "1                         14930            0  \n",
       "2                         19483            0  \n",
       "3                         39157            0  \n",
       "4                         17724            0  "
      ]
     },
     "execution_count": 159,
     "metadata": {},
     "output_type": "execute_result"
    }
   ],
   "source": [
    "dataset_pd.head()"
   ]
  },
  {
   "cell_type": "markdown",
   "id": "8c2a6284",
   "metadata": {},
   "source": [
    "## 5. Machine Learning Algorithms"
   ]
  },
  {
   "cell_type": "markdown",
   "id": "a7e6e4ad",
   "metadata": {},
   "source": [
    "Convert dataset_pd to PySpark."
   ]
  },
  {
   "cell_type": "code",
   "execution_count": 160,
   "id": "7d51b399",
   "metadata": {},
   "outputs": [
    {
     "name": "stdout",
     "output_type": "stream",
     "text": [
      "+-----------+-------------+----------------------+----+--------------+-------------+-----+---------+--------------+--------------------+-------------------+----------+---------------+-----------------------+---------------------+------------+-------------+-----------------+-------------------+--------------+-------------------+-----------------------+-----------------------+-----------+-----------------------+----------------+-------------+-----------------------+---------------------+----------------------------+-----------+\n",
      "|Loan_Amount|Funded_Amount|Funded_Amount_Investor|Term|Batch_Enrolled|Interest_Rate|Grade|Sub_Grade|Home_Ownership|Employment__Duration|Verification_Status|Loan_Title|Debit_to_Income|Delinquency_-_two_years|Inquires_-_six_months|Open_Account|Public_Record|Revolving_Balance|Revolving_Utilities|Total_Accounts|Initial_List_Status|Total_Received_Interest|Total_Received_Late_Fee| Recoveries|Collection_Recovery_Fee|Application_Type|Last_week_Pay|Total_Collection_Amount|Total_Current_Balance|Total_Revolving_Credit_Limit|Loan_Status|\n",
      "+-----------+-------------+----------------------+----+--------------+-------------+-----+---------+--------------+--------------------+-------------------+----------+---------------+-----------------------+---------------------+------------+-------------+-----------------+-------------------+--------------+-------------------+-----------------------+-----------------------+-----------+-----------------------+----------------+-------------+-----------------------+---------------------+----------------------------+-----------+\n",
      "|      12368|        23353|           16997.29781|  59|            40|  17.37107461|    2|       10|             0|         49456.48751|                  1|         6|    12.12823314|                      0|                    0|          12|            0|             4755|        32.42628489|            26|                  1|            1261.664743|            0.092563588|4.494961299|            0.658579984|               0|           15|                     17|               110910|                       28538|          0|\n",
      "|      12622|        26273|           12185.93819|  59|            18|  5.514894245|    5|        4|             2|         89132.96235|                  0|         8|    24.68352551|                      0|                    0|          13|            0|            15003|        70.22471972|            35|                  1|            4840.606716|            0.006874164|1.845878461|            0.844811772|               0|           26|                      6|               319982|                       14930|          0|\n",
      "|       4728|         9827|           11289.68994|  58|             0|  10.91005493|    0|        4|             1|         71210.30509|                  1|         8|    22.34756274|                      0|                    0|          13|            0|             6103|         30.0337212|            42|                  0|            2225.175608|            0.134724957|5.224269656|            0.280216902|               0|          136|                     23|               155286|                       19483|          0|\n",
      "|      27493|        16144|           7611.422039|  58|            27|  10.15403785|    0|       18|             1|         121574.0292|                  0|         3|    7.988374597|                      0|                    0|          11|            0|             3858|        8.466361106|            25|                  0|             19.6315478|            0.019702923|0.606443717|            0.209944489|               0|           62|                     34|               259609|                       39157|          0|\n",
      "|      21095|        13706|           16966.26078|  59|            18|  12.52716547|    1|       20|             0|         73015.69347|                  1|         2|    13.24901965|                      0|                    0|          13|            0|             3190|        81.84240611|            19|                  1|            646.1278375|            0.011499388| 7.93498865|            0.672914905|               0|           88|                     26|               151563|                       17724|          0|\n",
      "|       7562|        18036|           15047.85134|  59|            19|  18.63615892|    2|       23|             2|         87983.91122|                  1|         3|    34.37064703|                      0|                    0|          11|            0|            14657|        45.77174287|            14|                  1|            2238.116967|            0.040019931|1.579051489|            0.574027165|               0|           31|                     32|                25953|                        6362|          0|\n",
      "|      31010|        11042|           12188.25516|  59|            26|  15.05817656|    0|        8|             2|         37040.38813|                  1|         2|    36.69117063|                      0|                    2|          12|            0|             1264|        82.95174314|            10|                  1|            7182.122657|            30.40218759| 1.81056239|            0.578884242|               0|           25|                     54|                69925|                       17968|          0|\n",
      "|      21874|         8290|           14648.57524|  58|             7|  6.342291589|    1|       14|             0|         81662.75219|                  0|         3|    15.03523394|                      1|                    0|          19|            1|             5207|        45.52366666|            17|                  0|            5307.519596|            27.46547844|5.512599612|            0.626518926|               0|           93|                     38|                52026|                        8744|          0|\n",
      "|      13965|         7931|           7664.023645|  58|            31|  14.09067211|    3|        6|             1|         67293.85706|                  1|         2|    26.39391307|                      0|                    0|          12|            0|            10121|        23.81234101|            24|                  1|            2666.337029|            0.073062003|4.128768727|            1.113340466|               0|           66|                     60|               116141|                       15306|          1|\n",
      "|      17261|         8525|           12736.81533|  58|            19|  10.44406988|    3|        7|             2|         85812.34424|                  1|         2|    22.81567287|                      2|                    0|           6|            0|              528|          25.255604|            13|                  0|            9995.849868|            0.028631402|3.153545664|            1.187838313|               0|           16|                   1830|                40988|                       38273|          0|\n",
      "|      16108|         6252|           11704.20483|  58|            11|  15.32924595|    2|       11|             2|         127934.8887|                  1|         2|    36.32857662|                      0|                    0|          13|            0|             6289|        56.88095847|            16|                  1|            669.6544834|             0.01667107|5.353370733|            1.268428326|               0|           53|                     24|               274344|                       53504|          0|\n",
      "|      14215|        11090|           14497.81441|  58|            19|  18.00920864|    3|       13|             2|         45714.14515|                  1|         5|    28.90262942|                      0|                    0|           9|            0|             1826|        42.85791679|            21|                  0|            257.7948996|            0.020020824|3.386711631|            1.481478137|               0|           12|                     55|               157555|                       42621|          0|\n",
      "|       1559|         7165|           21504.58226|  58|            13|  9.044857401|    0|       13|             1|         45197.66905|                  1|         2|    16.06657875|                      0|                    0|          11|            0|             5516|        48.42274741|            12|                  1|            1114.539395|            0.057079958|4.421681717|            0.871604251|               0|          130|                     40|               184396|                        7118|          0|\n",
      "|      20061|         8292|           11140.13285|  59|             0|  20.62159903|    4|       13|             2|         114935.7696|                  1|         3|    34.69142308|                      0|                    0|          11|            0|             2759|        29.48871748|            25|                  1|            246.5699131|            0.091279339|1.507292048|            0.495435409|               0|           14|                    408|                71368|                        2845|          0|\n",
      "|      10381|        26139|            23852.1646|  59|            35|  5.519081834|    2|       17|             0|         72339.37705|                  1|         2|     18.0193945|                      0|                    0|          36|            0|             1294|        23.01295483|            42|                  0|            970.5810494|            0.058271331|0.752749474|            0.024508222|               0|           81|                     40|                88581|                       12116|          0|\n",
      "|      14949|        17247|           21097.61601|  59|            21|  12.42033282|    1|       12|             0|         45393.49398|                  1|         2|    10.67220163|                      0|                    0|          16|            0|             4919|        50.89738312|            15|                  1|            1121.199283|            0.016460941|0.444552568|            0.724656095|               0|           96|                     20|                43334|                       88361|          0|\n",
      "|      24550|        22075|           9368.361503|  59|            18|  16.41771558|    0|        3|             2|         38559.32513|                  1|         7|    16.82119721|                      1|                    0|          20|            0|             4872|        74.63658431|            27|                  0|            474.5208587|            0.069770431|0.185861563|            1.098798278|               0|           48|                     56|               348537|                       79153|          0|\n",
      "|       7869|         4511|           6302.450939|  58|            13|   12.0178502|    1|        3|             2|         31988.47584|                  1|         2|    28.99497587|                      1|                    0|           9|            0|             9728|        41.81957684|            20|                  1|            646.3708217|            0.084398311|3.824497712|            0.936675401|               0|           13|                     51|               203606|                       39329|          0|\n",
      "|       5395|        17761|           14380.06003|  59|            11|   10.7946961|    4|       13|             0|         159198.6554|                  1|         8|    18.02308169|                      0|                    0|          14|            0|             2211|        92.58080378|            13|                  0|             1108.97031|            0.033338341|0.281422375|            1.123776265|               0|          124|                     25|               160681|                       32519|          0|\n",
      "|      15809|         5309|           31714.22605|  59|            12|   20.7833273|    5|        3|             0|         84169.87153|                  1|         2|    26.17347975|                      0|                    1|          25|            0|            15670|        26.23543284|            12|                  1|            732.0047355|            25.38511933|2.334255871|             0.90561073|               0|          110|                     27|                97957|                       23930|          0|\n",
      "+-----------+-------------+----------------------+----+--------------+-------------+-----+---------+--------------+--------------------+-------------------+----------+---------------+-----------------------+---------------------+------------+-------------+-----------------+-------------------+--------------+-------------------+-----------------------+-----------------------+-----------+-----------------------+----------------+-------------+-----------------------+---------------------+----------------------------+-----------+\n",
      "only showing top 20 rows\n",
      "\n"
     ]
    }
   ],
   "source": [
    "dataset = spark.createDataFrame(dataset_pd)\n",
    "dataset.show()"
   ]
  },
  {
   "cell_type": "markdown",
   "id": "a4d8f431",
   "metadata": {},
   "source": [
    "Prints the dataset schema in the tree format."
   ]
  },
  {
   "cell_type": "code",
   "execution_count": 161,
   "id": "2399bf5e",
   "metadata": {
    "scrolled": false
   },
   "outputs": [
    {
     "name": "stdout",
     "output_type": "stream",
     "text": [
      "root\n",
      " |-- Loan_Amount: long (nullable = true)\n",
      " |-- Funded_Amount: long (nullable = true)\n",
      " |-- Funded_Amount_Investor: double (nullable = true)\n",
      " |-- Term: long (nullable = true)\n",
      " |-- Batch_Enrolled: long (nullable = true)\n",
      " |-- Interest_Rate: double (nullable = true)\n",
      " |-- Grade: long (nullable = true)\n",
      " |-- Sub_Grade: long (nullable = true)\n",
      " |-- Home_Ownership: long (nullable = true)\n",
      " |-- Employment__Duration: double (nullable = true)\n",
      " |-- Verification_Status: long (nullable = true)\n",
      " |-- Loan_Title: long (nullable = true)\n",
      " |-- Debit_to_Income: double (nullable = true)\n",
      " |-- Delinquency_-_two_years: long (nullable = true)\n",
      " |-- Inquires_-_six_months: long (nullable = true)\n",
      " |-- Open_Account: long (nullable = true)\n",
      " |-- Public_Record: long (nullable = true)\n",
      " |-- Revolving_Balance: long (nullable = true)\n",
      " |-- Revolving_Utilities: double (nullable = true)\n",
      " |-- Total_Accounts: long (nullable = true)\n",
      " |-- Initial_List_Status: long (nullable = true)\n",
      " |-- Total_Received_Interest: double (nullable = true)\n",
      " |-- Total_Received_Late_Fee: double (nullable = true)\n",
      " |-- Recoveries: double (nullable = true)\n",
      " |-- Collection_Recovery_Fee: double (nullable = true)\n",
      " |-- Application_Type: long (nullable = true)\n",
      " |-- Last_week_Pay: long (nullable = true)\n",
      " |-- Total_Collection_Amount: long (nullable = true)\n",
      " |-- Total_Current_Balance: long (nullable = true)\n",
      " |-- Total_Revolving_Credit_Limit: long (nullable = true)\n",
      " |-- Loan_Status: long (nullable = true)\n",
      "\n"
     ]
    }
   ],
   "source": [
    "dataset.printSchema()"
   ]
  },
  {
   "cell_type": "markdown",
   "id": "4aad222f",
   "metadata": {},
   "source": [
    "Combine *features* in a vector."
   ]
  },
  {
   "cell_type": "code",
   "execution_count": 162,
   "id": "93d79ebe",
   "metadata": {
    "scrolled": true
   },
   "outputs": [
    {
     "name": "stdout",
     "output_type": "stream",
     "text": [
      "+-----------+-------------+----------------------+----+--------------+-------------+-----+---------+--------------+--------------------+-------------------+----------+---------------+-----------------------+---------------------+------------+-------------+-----------------+-------------------+--------------+-------------------+-----------------------+-----------------------+-----------+-----------------------+----------------+-------------+-----------------------+---------------------+----------------------------+-----------+--------------------+\n",
      "|Loan_Amount|Funded_Amount|Funded_Amount_Investor|Term|Batch_Enrolled|Interest_Rate|Grade|Sub_Grade|Home_Ownership|Employment__Duration|Verification_Status|Loan_Title|Debit_to_Income|Delinquency_-_two_years|Inquires_-_six_months|Open_Account|Public_Record|Revolving_Balance|Revolving_Utilities|Total_Accounts|Initial_List_Status|Total_Received_Interest|Total_Received_Late_Fee| Recoveries|Collection_Recovery_Fee|Application_Type|Last_week_Pay|Total_Collection_Amount|Total_Current_Balance|Total_Revolving_Credit_Limit|Loan_Status|            features|\n",
      "+-----------+-------------+----------------------+----+--------------+-------------+-----+---------+--------------+--------------------+-------------------+----------+---------------+-----------------------+---------------------+------------+-------------+-----------------+-------------------+--------------+-------------------+-----------------------+-----------------------+-----------+-----------------------+----------------+-------------+-----------------------+---------------------+----------------------------+-----------+--------------------+\n",
      "|      12368|        23353|           16997.29781|  59|            40|  17.37107461|    2|       10|             0|         49456.48751|                  1|         6|    12.12823314|                      0|                    0|          12|            0|             4755|        32.42628489|            26|                  1|            1261.664743|            0.092563588|4.494961299|            0.658579984|               0|           15|                     17|               110910|                       28538|          0|[12368.0,23353.0,...|\n",
      "|      12622|        26273|           12185.93819|  59|            18|  5.514894245|    5|        4|             2|         89132.96235|                  0|         8|    24.68352551|                      0|                    0|          13|            0|            15003|        70.22471972|            35|                  1|            4840.606716|            0.006874164|1.845878461|            0.844811772|               0|           26|                      6|               319982|                       14930|          0|[12622.0,26273.0,...|\n",
      "|       4728|         9827|           11289.68994|  58|             0|  10.91005493|    0|        4|             1|         71210.30509|                  1|         8|    22.34756274|                      0|                    0|          13|            0|             6103|         30.0337212|            42|                  0|            2225.175608|            0.134724957|5.224269656|            0.280216902|               0|          136|                     23|               155286|                       19483|          0|[4728.0,9827.0,11...|\n",
      "|      27493|        16144|           7611.422039|  58|            27|  10.15403785|    0|       18|             1|         121574.0292|                  0|         3|    7.988374597|                      0|                    0|          11|            0|             3858|        8.466361106|            25|                  0|             19.6315478|            0.019702923|0.606443717|            0.209944489|               0|           62|                     34|               259609|                       39157|          0|[27493.0,16144.0,...|\n",
      "|      21095|        13706|           16966.26078|  59|            18|  12.52716547|    1|       20|             0|         73015.69347|                  1|         2|    13.24901965|                      0|                    0|          13|            0|             3190|        81.84240611|            19|                  1|            646.1278375|            0.011499388| 7.93498865|            0.672914905|               0|           88|                     26|               151563|                       17724|          0|[21095.0,13706.0,...|\n",
      "+-----------+-------------+----------------------+----+--------------+-------------+-----+---------+--------------+--------------------+-------------------+----------+---------------+-----------------------+---------------------+------------+-------------+-----------------+-------------------+--------------+-------------------+-----------------------+-----------------------+-----------+-----------------------+----------------+-------------+-----------------------+---------------------+----------------------------+-----------+--------------------+\n",
      "only showing top 5 rows\n",
      "\n"
     ]
    }
   ],
   "source": [
    "vector_assembler = VectorAssembler(inputCols=['Loan_Amount','Funded_Amount','Funded_Amount_Investor',\n",
    "                                              'Term','Batch_Enrolled','Interest_Rate','Grade','Sub_Grade',\n",
    "                                              'Home_Ownership','Employment__Duration','Verification_Status',\n",
    "                                              'Loan_Title','Debit_to_Income','Delinquency_-_two_years',\n",
    "                                              'Inquires_-_six_months','Open_Account','Public_Record',\n",
    "                                              'Revolving_Balance','Revolving_Utilities','Total_Accounts',\n",
    "                                              'Initial_List_Status','Total_Received_Interest',\n",
    "                                              'Total_Received_Late_Fee','Recoveries','Collection_Recovery_Fee',\n",
    "                                              'Application_Type','Last_week_Pay','Total_Collection_Amount',\n",
    "                                              'Total_Current_Balance','Total_Revolving_Credit_Limit']\n",
    "                                             ,outputCol=\"features\")\n",
    "output = vector_assembler.transform(dataset)\n",
    "output.show(5)"
   ]
  },
  {
   "cell_type": "markdown",
   "id": "d0da745a",
   "metadata": {
    "scrolled": true
   },
   "source": [
    "Standardizes the data."
   ]
  },
  {
   "cell_type": "code",
   "execution_count": 163,
   "id": "3ce994b3",
   "metadata": {
    "scrolled": true
   },
   "outputs": [
    {
     "name": "stdout",
     "output_type": "stream",
     "text": [
      "+--------------------+--------------------+\n",
      "|            features|      scaledFeatures|\n",
      "+--------------------+--------------------+\n",
      "|[12368.0,23353.0,...|[1.47212500680719...|\n",
      "|[12622.0,26273.0,...|[1.50235784572448...|\n",
      "|[4728.0,9827.0,11...|[0.56275930079110...|\n",
      "|[27493.0,16144.0,...|[3.27240724548433...|\n",
      "|[21095.0,13706.0,...|[2.51087298015829...|\n",
      "+--------------------+--------------------+\n",
      "only showing top 5 rows\n",
      "\n"
     ]
    }
   ],
   "source": [
    "from pyspark.ml.feature import StandardScaler\n",
    "\n",
    "scaler = StandardScaler(inputCol=\"features\", outputCol=\"scaledFeatures\", withStd=True, withMean=False)\n",
    "\n",
    "scalerModel = scaler.fit(output).transform(output)\n",
    "\n",
    "scalerModel.select(\"features\",\"scaledFeatures\").show(5)"
   ]
  },
  {
   "cell_type": "markdown",
   "id": "5f990bef",
   "metadata": {},
   "source": [
    "Distribution of classes in the target attribute `Loan_Status`."
   ]
  },
  {
   "cell_type": "code",
   "execution_count": 164,
   "id": "87167cf2",
   "metadata": {
    "scrolled": false
   },
   "outputs": [
    {
     "name": "stdout",
     "output_type": "stream",
     "text": [
      "+-----------+-----+\n",
      "|Loan_Status|count|\n",
      "+-----------+-----+\n",
      "|          0|24926|\n",
      "|          1| 2523|\n",
      "+-----------+-----+\n",
      "\n"
     ]
    }
   ],
   "source": [
    "scalerModel.groupBy('Loan_Status').count().show()"
   ]
  },
  {
   "cell_type": "markdown",
   "id": "eff27e48",
   "metadata": {},
   "source": [
    "Ratio between the largest class and the smallest class in target `Loan_Status`."
   ]
  },
  {
   "cell_type": "code",
   "execution_count": 165,
   "id": "3cdedb92",
   "metadata": {},
   "outputs": [
    {
     "name": "stdout",
     "output_type": "stream",
     "text": [
      "ratio: 9\n"
     ]
    }
   ],
   "source": [
    "from pyspark.sql.functions import col\n",
    "major_df = scalerModel.filter(col(\"Loan_Status\") == 0)\n",
    "major_df\n",
    "minor_df = scalerModel.filter(col(\"Loan_Status\") == 1)\n",
    "minor_df\n",
    "ratio = int(major_df.count()/minor_df.count())\n",
    "print(\"ratio: {}\".format(ratio))"
   ]
  },
  {
   "cell_type": "markdown",
   "id": "e765d898",
   "metadata": {},
   "source": [
    "Method of major class undersampling. "
   ]
  },
  {
   "cell_type": "code",
   "execution_count": 166,
   "id": "103400a4",
   "metadata": {},
   "outputs": [
    {
     "name": "stdout",
     "output_type": "stream",
     "text": [
      "+-----------+-------------+----------------------+----+--------------+-------------+-----+---------+--------------+--------------------+-------------------+----------+---------------+-----------------------+---------------------+------------+-------------+-----------------+-------------------+--------------+-------------------+-----------------------+-----------------------+-----------+-----------------------+----------------+-------------+-----------------------+---------------------+----------------------------+-----------+--------------------+--------------------+\n",
      "|Loan_Amount|Funded_Amount|Funded_Amount_Investor|Term|Batch_Enrolled|Interest_Rate|Grade|Sub_Grade|Home_Ownership|Employment__Duration|Verification_Status|Loan_Title|Debit_to_Income|Delinquency_-_two_years|Inquires_-_six_months|Open_Account|Public_Record|Revolving_Balance|Revolving_Utilities|Total_Accounts|Initial_List_Status|Total_Received_Interest|Total_Received_Late_Fee| Recoveries|Collection_Recovery_Fee|Application_Type|Last_week_Pay|Total_Collection_Amount|Total_Current_Balance|Total_Revolving_Credit_Limit|Loan_Status|            features|      scaledFeatures|\n",
      "+-----------+-------------+----------------------+----+--------------+-------------+-----+---------+--------------+--------------------+-------------------+----------+---------------+-----------------------+---------------------+------------+-------------+-----------------+-------------------+--------------+-------------------+-----------------------+-----------------------+-----------+-----------------------+----------------+-------------+-----------------------+---------------------+----------------------------+-----------+--------------------+--------------------+\n",
      "|       4728|         9827|           11289.68994|  58|             0|  10.91005493|    0|        4|             1|         71210.30509|                  1|         8|    22.34756274|                      0|                    0|          13|            0|             6103|         30.0337212|            42|                  0|            2225.175608|            0.134724957|5.224269656|            0.280216902|               0|          136|                     23|               155286|                       19483|          0|[4728.0,9827.0,11...|[0.56275930079110...|\n",
      "|      17261|         8525|           12736.81533|  58|            19|  10.44406988|    3|        7|             2|         85812.34424|                  1|         2|    22.81567287|                      2|                    0|           6|            0|              528|          25.255604|            13|                  0|            9995.849868|            0.028631402|3.153545664|            1.187838313|               0|           16|                   1830|                40988|                       38273|          0|[17261.0,8525.0,1...|[2.05452375020205...|\n",
      "|      14949|        17247|           21097.61601|  59|            21|  12.42033282|    1|       12|             0|         45393.49398|                  1|         2|    10.67220163|                      0|                    0|          16|            0|             4919|        50.89738312|            15|                  1|            1121.199283|            0.016460941|0.444552568|            0.724656095|               0|           96|                     20|                43334|                       88361|          0|[14949.0,17247.0,...|[1.77933349989980...|\n",
      "|      22160|         9011|           21149.51314|  36|             5|  10.34521977|    0|       10|             0|         96249.84244|                  1|         4|    6.074091517|                      0|                    0|          12|            0|             2222|        63.06190166|            15|                  1|            1200.076167|            0.020431425|3.354165582|            0.090962964|               0|           25|                     27|               240660|                        9533|          0|[22160.0,9011.0,2...|[2.63763665514614...|\n",
      "|      30283|        14969|           7965.085961|  58|            17|  7.419594472|    1|       23|             0|         40263.28847|                  1|         3|    10.27353018|                      0|                    0|          13|            0|             3246|        78.09603445|             4|                  0|            3683.214995|            0.002825132|8.105682579|            0.745932604|               0|           82|                     39|               356166|                       27310|          0|[30283.0,14969.0,...|[3.60449236587503...|\n",
      "+-----------+-------------+----------------------+----+--------------+-------------+-----+---------+--------------+--------------------+-------------------+----------+---------------+-----------------------+---------------------+------------+-------------+-----------------+-------------------+--------------+-------------------+-----------------------+-----------------------+-----------+-----------------------+----------------+-------------+-----------------------+---------------------+----------------------------+-----------+--------------------+--------------------+\n",
      "only showing top 5 rows\n",
      "\n"
     ]
    }
   ],
   "source": [
    "sampled_majority_df = major_df.sample(False, 1/ratio)\n",
    "combined_df = sampled_majority_df.unionAll(minor_df)\n",
    "scalerModel = combined_df\n",
    "scalerModel.show(5)"
   ]
  },
  {
   "cell_type": "markdown",
   "id": "2c5b70e1",
   "metadata": {},
   "source": [
    "Put in a new dataset final_data `scaledFeatures` and `Loan_Status`."
   ]
  },
  {
   "cell_type": "code",
   "execution_count": 167,
   "id": "412bba97",
   "metadata": {
    "scrolled": false
   },
   "outputs": [
    {
     "name": "stdout",
     "output_type": "stream",
     "text": [
      "+--------------------+-----------+\n",
      "|      scaledFeatures|Loan_Status|\n",
      "+--------------------+-----------+\n",
      "|[0.56275930079110...|          0|\n",
      "|[2.05452375020205...|          0|\n",
      "|[1.77933349989980...|          0|\n",
      "|[2.63763665514614...|          0|\n",
      "|[3.60449236587503...|          0|\n",
      "+--------------------+-----------+\n",
      "only showing top 5 rows\n",
      "\n"
     ]
    }
   ],
   "source": [
    "final_data = scalerModel.select(\"scaledFeatures\",\"Loan_Status\")\n",
    "final_data.show(5)"
   ]
  },
  {
   "cell_type": "markdown",
   "id": "f17f3b84",
   "metadata": {},
   "source": [
    "Check if classes are balanced."
   ]
  },
  {
   "cell_type": "code",
   "execution_count": 168,
   "id": "fc2ce3ea",
   "metadata": {
    "scrolled": true
   },
   "outputs": [
    {
     "name": "stdout",
     "output_type": "stream",
     "text": [
      "+-----------+-----+\n",
      "|Loan_Status|count|\n",
      "+-----------+-----+\n",
      "|          0| 2843|\n",
      "|          1| 2523|\n",
      "+-----------+-----+\n",
      "\n"
     ]
    }
   ],
   "source": [
    "final_data.groupBy('Loan_Status').count().show()"
   ]
  },
  {
   "cell_type": "markdown",
   "id": "9edcab75",
   "metadata": {},
   "source": [
    "Train test split with 70% for training and 30% for the test."
   ]
  },
  {
   "cell_type": "code",
   "execution_count": 169,
   "id": "695210ca",
   "metadata": {
    "scrolled": true
   },
   "outputs": [
    {
     "name": "stdout",
     "output_type": "stream",
     "text": [
      "training dataset: 3726\n",
      "test dataset: 1640\n"
     ]
    }
   ],
   "source": [
    "train, test = final_data.randomSplit([0.70, 0.30])\n",
    "print(\"training dataset:\", str(train.count()))\n",
    "print(\"test dataset:\", str(test.count()))"
   ]
  },
  {
   "cell_type": "markdown",
   "id": "04226ebf",
   "metadata": {},
   "source": [
    "Applying the Logistic Regression algorithm with 10 maximum iteracions."
   ]
  },
  {
   "cell_type": "code",
   "execution_count": 170,
   "id": "955b3520",
   "metadata": {},
   "outputs": [],
   "source": [
    "lr = LogisticRegression(featuresCol = \"scaledFeatures\",labelCol=\"Loan_Status\", maxIter=10)\n",
    "lrModel = lr.fit(train)\n",
    "predict_train=lrModel.transform(train)\n",
    "predict_test=lrModel.transform(test)"
   ]
  },
  {
   "cell_type": "markdown",
   "id": "2769be54",
   "metadata": {},
   "source": [
    "Score for training and test."
   ]
  },
  {
   "cell_type": "code",
   "execution_count": 171,
   "id": "8f43b7d4",
   "metadata": {
    "scrolled": false
   },
   "outputs": [
    {
     "name": "stdout",
     "output_type": "stream",
     "text": [
      "+-----------+--------------------+\n",
      "|Loan_Status|       rawPrediction|\n",
      "+-----------+--------------------+\n",
      "|          0|[-0.0767393653309...|\n",
      "|          0|[-0.0239822021585...|\n",
      "|          0|[-0.1540125153158...|\n",
      "|          0|[-0.0837564836540...|\n",
      "|          0|[-0.0047116931921...|\n",
      "+-----------+--------------------+\n",
      "only showing top 5 rows\n",
      "\n",
      "Train score 0.5668344426256697\n",
      "Test score 0.545735037628471\n"
     ]
    }
   ],
   "source": [
    "evaluator=BinaryClassificationEvaluator(rawPredictionCol=\"rawPrediction\",labelCol=\"Loan_Status\")\n",
    "predict_test.select(\"Loan_Status\",\"rawPrediction\").show(5)\n",
    "\n",
    "print(\"Train score {}\".format(evaluator.evaluate(predict_train)))\n",
    "print(\"Test score {}\".format(evaluator.evaluate(predict_test)))"
   ]
  },
  {
   "cell_type": "markdown",
   "id": "0be6d640",
   "metadata": {},
   "source": [
    "Classification report with all metrics."
   ]
  },
  {
   "cell_type": "code",
   "execution_count": 172,
   "id": "317d8b0b",
   "metadata": {
    "scrolled": false
   },
   "outputs": [
    {
     "name": "stdout",
     "output_type": "stream",
     "text": [
      "              precision    recall  f1-score   support\n",
      "\n",
      "           0       0.59      0.63      0.61       918\n",
      "           1       0.48      0.44      0.46       722\n",
      "\n",
      "    accuracy                           0.55      1640\n",
      "   macro avg       0.54      0.53      0.53      1640\n",
      "weighted avg       0.54      0.55      0.54      1640\n",
      "\n"
     ]
    }
   ],
   "source": [
    "print(classification_report(test.select('Loan_Status').toPandas(),predict_test.select('prediction').toPandas()))"
   ]
  },
  {
   "cell_type": "markdown",
   "id": "4c0c4675",
   "metadata": {},
   "source": [
    "Predictions and labels to use confusion matrix."
   ]
  },
  {
   "cell_type": "code",
   "execution_count": 173,
   "id": "69b342c5",
   "metadata": {
    "scrolled": false
   },
   "outputs": [
    {
     "name": "stderr",
     "output_type": "stream",
     "text": [
      "C:\\spark\\spark-3.2.0-bin-hadoop3.2\\python\\pyspark\\sql\\context.py:125: FutureWarning: Deprecated in 3.0.0. Use SparkSession.builder.getOrCreate() instead.\n",
      "  warnings.warn(\n"
     ]
    },
    {
     "name": "stdout",
     "output_type": "stream",
     "text": [
      "[[581. 337.]\n",
      " [407. 315.]]\n"
     ]
    }
   ],
   "source": [
    "preds_and_labels = predict_test.select(['prediction','Loan_Status']).withColumn('Loan_Status', F.col('Loan_Status').cast(FloatType())).orderBy('prediction')\n",
    "preds_and_labels = preds_and_labels.select(['prediction','Loan_Status'])\n",
    "metrics = MulticlassMetrics(preds_and_labels.rdd.map(tuple))\n",
    "array = metrics.confusionMatrix().toArray()\n",
    "print(array)"
   ]
  },
  {
   "cell_type": "markdown",
   "id": "02700ca1",
   "metadata": {},
   "source": [
    "Show confusion matrix with labels and title."
   ]
  },
  {
   "cell_type": "code",
   "execution_count": 174,
   "id": "63378765",
   "metadata": {},
   "outputs": [
    {
     "data": {
      "text/plain": [
       "Text(0.5, 15.0, 'Predicted label')"
      ]
     },
     "execution_count": 174,
     "metadata": {},
     "output_type": "execute_result"
    },
    {
     "data": {
      "image/png": "[encoded data removed]",
      "text/plain": [
       "<Figure size 432x288 with 1 Axes>"
      ]
     },
     "metadata": {
      "needs_background": "light"
     },
     "output_type": "display_data"
    }
   ],
   "source": [
    "sns.heatmap(array, annot=True, cbar = None, annot_kws={\"size\": 16}, fmt = \".0f\", cmap='Blues')\n",
    "plt.title('Matriz de Confusão Regressão Logística')\n",
    "plt.ylabel('True label')\n",
    "plt.xlabel('Predicted label')"
   ]
  },
  {
   "cell_type": "markdown",
   "id": "fdc44aec",
   "metadata": {},
   "source": [
    "## Random Forest"
   ]
  },
  {
   "cell_type": "markdown",
   "id": "b14beed6",
   "metadata": {},
   "source": [
    "String Indexer of `Loan_Status`."
   ]
  },
  {
   "cell_type": "code",
   "execution_count": 175,
   "id": "f78471e4",
   "metadata": {},
   "outputs": [],
   "source": [
    "stringIndexer = StringIndexer(inputCol = 'Loan_Status', outputCol = 'labelIndexed')\n",
    "inputDF = stringIndexer.fit(output).transform(output)"
   ]
  },
  {
   "cell_type": "markdown",
   "id": "bea8076a",
   "metadata": {},
   "source": [
    "Ratio between the largest class and the smallest class in target `Loan_Status`."
   ]
  },
  {
   "cell_type": "code",
   "execution_count": 176,
   "id": "3d036699",
   "metadata": {},
   "outputs": [
    {
     "name": "stdout",
     "output_type": "stream",
     "text": [
      "ratio: 9\n"
     ]
    }
   ],
   "source": [
    "from pyspark.sql.functions import col, explode, array, lit\n",
    "\n",
    "major_df = inputDF.filter(col(\"Loan_Status\") == 0)\n",
    "major_df\n",
    "minor_df = inputDF.filter(col(\"Loan_Status\") == 1)\n",
    "minor_df\n",
    "ratio = int(major_df.count()/minor_df.count())\n",
    "print(\"ratio: {}\".format(ratio))"
   ]
  },
  {
   "cell_type": "markdown",
   "id": "20a47ef5",
   "metadata": {},
   "source": [
    "Method of major class undersampling. "
   ]
  },
  {
   "cell_type": "code",
   "execution_count": 177,
   "id": "234069e9",
   "metadata": {},
   "outputs": [
    {
     "name": "stdout",
     "output_type": "stream",
     "text": [
      "+-----------+-------------+----------------------+----+--------------+-------------+-----+---------+--------------+--------------------+-------------------+----------+---------------+-----------------------+---------------------+------------+-------------+-----------------+-------------------+--------------+-------------------+-----------------------+-----------------------+-----------+-----------------------+----------------+-------------+-----------------------+---------------------+----------------------------+-----------+--------------------+------------+\n",
      "|Loan_Amount|Funded_Amount|Funded_Amount_Investor|Term|Batch_Enrolled|Interest_Rate|Grade|Sub_Grade|Home_Ownership|Employment__Duration|Verification_Status|Loan_Title|Debit_to_Income|Delinquency_-_two_years|Inquires_-_six_months|Open_Account|Public_Record|Revolving_Balance|Revolving_Utilities|Total_Accounts|Initial_List_Status|Total_Received_Interest|Total_Received_Late_Fee| Recoveries|Collection_Recovery_Fee|Application_Type|Last_week_Pay|Total_Collection_Amount|Total_Current_Balance|Total_Revolving_Credit_Limit|Loan_Status|            features|labelIndexed|\n",
      "+-----------+-------------+----------------------+----+--------------+-------------+-----+---------+--------------+--------------------+-------------------+----------+---------------+-----------------------+---------------------+------------+-------------+-----------------+-------------------+--------------+-------------------+-----------------------+-----------------------+-----------+-----------------------+----------------+-------------+-----------------------+---------------------+----------------------------+-----------+--------------------+------------+\n",
      "|      17703|        26995|           25685.73611|  59|             0|  9.958626476|    0|        1|             0|         85752.25179|                  1|         9|    19.49268812|                      1|                    0|          11|            1|             8236|        32.55215492|            20|                  0|            601.9862726|            0.068384943| 3.48477643|            1.414715198|               0|           92|                     29|                97696|                        8292|          0|[17703.0,26995.0,...|         0.0|\n",
      "|      12398|        13265|           12351.66485|  58|             2|  12.12079425|    1|        8|             0|         56152.29918|                  1|         2|     21.0607889|                      0|                    0|          14|            0|             3750|        80.25659675|            28|                  1|            1897.236012|            0.089313226|2.874807182|            0.905258656|               0|           18|                     14|               514746|                       29842|          0|[12398.0,13265.0,...|         0.0|\n",
      "|       9979|         8770|           6712.956828|  59|            12|  7.429227069|    1|        6|             2|         81327.75229|                  0|         3|    19.53566382|                      1|                    0|          15|            0|             5651|        88.67300906|            39|                  0|            203.7589098|            0.006117196|3.161353787|            0.946421164|               0|           52|                      9|               196442|                       47493|          0|[9979.0,8770.0,67...|         0.0|\n",
      "|       3719|         1931|           12385.39209|  58|            30|  12.83169707|    2|       12|             2|         108141.7963|                  1|         3|    25.26724262|                      0|                    0|          11|            0|             3297|         6.86709802|            26|                  0|             417.968909|            0.049683015|4.794322395|            0.638499782|               0|           68|                     49|               259191|                        8549|          0|[3719.0,1931.0,12...|         0.0|\n",
      "|      12408|         6729|           6507.483756|  58|            12|  10.24723729|    1|       18|             1|          143336.442|                  0|         3|    14.12994551|                      0|                    0|           9|            0|             2162|        49.83702761|            15|                  1|            769.5001143|            0.092170359|3.272614304|            0.366177116|               0|           17|                     35|                35571|                       21898|          0|[12408.0,6729.0,6...|         0.0|\n",
      "+-----------+-------------+----------------------+----+--------------+-------------+-----+---------+--------------+--------------------+-------------------+----------+---------------+-----------------------+---------------------+------------+-------------+-----------------+-------------------+--------------+-------------------+-----------------------+-----------------------+-----------+-----------------------+----------------+-------------+-----------------------+---------------------+----------------------------+-----------+--------------------+------------+\n",
      "only showing top 5 rows\n",
      "\n"
     ]
    }
   ],
   "source": [
    "sampled_majority_df = major_df.sample(False, 1/ratio)\n",
    "combined_df_2 = sampled_majority_df.unionAll(minor_df)\n",
    "scalerModel = combined_df_2\n",
    "scalerModel.show(5)"
   ]
  },
  {
   "cell_type": "markdown",
   "id": "baef4765",
   "metadata": {},
   "source": [
    "Select features and target `labelIndexed`."
   ]
  },
  {
   "cell_type": "code",
   "execution_count": 178,
   "id": "6ad05781",
   "metadata": {
    "scrolled": true
   },
   "outputs": [
    {
     "name": "stdout",
     "output_type": "stream",
     "text": [
      "+--------------------+------------+\n",
      "|            features|labelIndexed|\n",
      "+--------------------+------------+\n",
      "|[17703.0,26995.0,...|         0.0|\n",
      "|[12398.0,13265.0,...|         0.0|\n",
      "|[9979.0,8770.0,67...|         0.0|\n",
      "|[3719.0,1931.0,12...|         0.0|\n",
      "|[12408.0,6729.0,6...|         0.0|\n",
      "+--------------------+------------+\n",
      "only showing top 5 rows\n",
      "\n"
     ]
    }
   ],
   "source": [
    "final_data2 = scalerModel.select(\"features\",\"labelIndexed\")\n",
    "final_data2.show(5)"
   ]
  },
  {
   "cell_type": "markdown",
   "id": "0b853a47",
   "metadata": {},
   "source": [
    "Check if classes are balanced."
   ]
  },
  {
   "cell_type": "code",
   "execution_count": 179,
   "id": "ea365006",
   "metadata": {
    "scrolled": true
   },
   "outputs": [
    {
     "name": "stdout",
     "output_type": "stream",
     "text": [
      "+------------+-----+\n",
      "|labelIndexed|count|\n",
      "+------------+-----+\n",
      "|         0.0| 2746|\n",
      "|         1.0| 2523|\n",
      "+------------+-----+\n",
      "\n"
     ]
    }
   ],
   "source": [
    "final_data2.groupBy('labelIndexed').count().show()"
   ]
  },
  {
   "cell_type": "markdown",
   "id": "1bd30fd2",
   "metadata": {},
   "source": [
    "Train test split with 70% for training and 30% for the test."
   ]
  },
  {
   "cell_type": "code",
   "execution_count": 180,
   "id": "dd533e5f",
   "metadata": {
    "scrolled": true
   },
   "outputs": [
    {
     "name": "stdout",
     "output_type": "stream",
     "text": [
      "training dataset: 3705\n",
      "test dataset: 1564\n"
     ]
    }
   ],
   "source": [
    "train, test = final_data2.randomSplit([0.7, 0.3],seed=1000)\n",
    "print(\"training dataset:\", str(train.count()))\n",
    "print(\"test dataset:\", str(test.count()))"
   ]
  },
  {
   "cell_type": "markdown",
   "id": "f7c761a2",
   "metadata": {},
   "source": [
    "Applying the Random Forest algorithm."
   ]
  },
  {
   "cell_type": "code",
   "execution_count": 181,
   "id": "81b22d73",
   "metadata": {},
   "outputs": [
    {
     "name": "stdout",
     "output_type": "stream",
     "text": [
      "+----------+------------+\n",
      "|prediction|labelIndexed|\n",
      "+----------+------------+\n",
      "|       0.0|         0.0|\n",
      "|       0.0|         0.0|\n",
      "|       1.0|         0.0|\n",
      "|       0.0|         0.0|\n",
      "|       0.0|         0.0|\n",
      "+----------+------------+\n",
      "only showing top 5 rows\n",
      "\n"
     ]
    }
   ],
   "source": [
    "random_forest = RandomForestClassifier(featuresCol='features', labelCol='labelIndexed')\n",
    "rfModel = random_forest.fit(train)\n",
    "predictions = rfModel.transform(test)\n",
    "predictions.select(\"prediction\", 'labelIndexed').show(5)"
   ]
  },
  {
   "cell_type": "markdown",
   "id": "88d3f4d5",
   "metadata": {},
   "source": [
    "Observe importance of all features."
   ]
  },
  {
   "cell_type": "code",
   "execution_count": 182,
   "id": "a854c48e",
   "metadata": {
    "scrolled": true
   },
   "outputs": [
    {
     "data": {
      "text/plain": [
       "SparseVector(30, {0: 0.035, 1: 0.0656, 2: 0.0534, 3: 0.0145, 4: 0.0634, 5: 0.0258, 6: 0.0082, 7: 0.0572, 8: 0.0074, 9: 0.0414, 10: 0.0044, 11: 0.0084, 12: 0.0343, 13: 0.0131, 14: 0.0092, 15: 0.0304, 16: 0.0105, 17: 0.0383, 18: 0.0612, 19: 0.0406, 20: 0.0078, 21: 0.0324, 22: 0.0355, 23: 0.0596, 24: 0.0571, 25: 0.0017, 26: 0.0424, 27: 0.0567, 28: 0.046, 29: 0.0384})"
      ]
     },
     "execution_count": 182,
     "metadata": {},
     "output_type": "execute_result"
    }
   ],
   "source": [
    "rfModel.featureImportances"
   ]
  },
  {
   "cell_type": "markdown",
   "id": "330849b4",
   "metadata": {},
   "source": [
    "Accuracy and test error."
   ]
  },
  {
   "cell_type": "code",
   "execution_count": 183,
   "id": "ce58c750",
   "metadata": {},
   "outputs": [
    {
     "name": "stdout",
     "output_type": "stream",
     "text": [
      "Accuracy = 51.6 %\n",
      "Test Error = 48.4 % \n"
     ]
    }
   ],
   "source": [
    "evaluator = MulticlassClassificationEvaluator(labelCol=\"labelIndexed\", predictionCol='prediction', metricName='accuracy')\n",
    "\n",
    "accuracy = evaluator.evaluate(predictions)\n",
    "\n",
    "print(f\"Accuracy = {round(accuracy*100,1)} %\")\n",
    "print(f\"Test Error = {round((1.0 - accuracy)*100,1)} % \")"
   ]
  },
  {
   "cell_type": "markdown",
   "id": "8452050f",
   "metadata": {},
   "source": [
    "Classification report with all metrics."
   ]
  },
  {
   "cell_type": "code",
   "execution_count": 184,
   "id": "08186232",
   "metadata": {
    "scrolled": true
   },
   "outputs": [
    {
     "name": "stdout",
     "output_type": "stream",
     "text": [
      "              precision    recall  f1-score   support\n",
      "\n",
      "         0.0       0.53      0.76      0.62       816\n",
      "         1.0       0.49      0.25      0.33       748\n",
      "\n",
      "    accuracy                           0.52      1564\n",
      "   macro avg       0.51      0.51      0.48      1564\n",
      "weighted avg       0.51      0.52      0.48      1564\n",
      "\n"
     ]
    }
   ],
   "source": [
    "print(classification_report(test.select('labelIndexed').toPandas(),predictions.select('prediction').toPandas()))"
   ]
  },
  {
   "cell_type": "markdown",
   "id": "511989c6",
   "metadata": {},
   "source": [
    "Predictions and labels to use confusion matrix."
   ]
  },
  {
   "cell_type": "code",
   "execution_count": 185,
   "id": "f3ec2ee0",
   "metadata": {},
   "outputs": [
    {
     "name": "stderr",
     "output_type": "stream",
     "text": [
      "C:\\spark\\spark-3.2.0-bin-hadoop3.2\\python\\pyspark\\sql\\context.py:125: FutureWarning: Deprecated in 3.0.0. Use SparkSession.builder.getOrCreate() instead.\n",
      "  warnings.warn(\n"
     ]
    },
    {
     "name": "stdout",
     "output_type": "stream",
     "text": [
      "[[618. 198.]\n",
      " [559. 189.]]\n"
     ]
    }
   ],
   "source": [
    "preds_and_labels = predictions.select(['prediction','labelIndexed']).withColumn('labelIndexed', F.col('labelIndexed').cast(FloatType())).orderBy('prediction')\n",
    "preds_and_labels = preds_and_labels.select(['prediction','labelIndexed'])\n",
    "metrics = MulticlassMetrics(preds_and_labels.rdd.map(tuple))\n",
    "array = metrics.confusionMatrix().toArray()\n",
    "print(array)"
   ]
  },
  {
   "cell_type": "markdown",
   "id": "dd186ef3",
   "metadata": {},
   "source": [
    "Show confusion matrix with labels and title."
   ]
  },
  {
   "cell_type": "code",
   "execution_count": 186,
   "id": "f5dd372a",
   "metadata": {},
   "outputs": [
    {
     "data": {
      "text/plain": [
       "Text(0.5, 15.0, 'Predicted label')"
      ]
     },
     "execution_count": 186,
     "metadata": {},
     "output_type": "execute_result"
    },
    {
     "data": {
      "image/png": "[encoded data removed]",
      "text/plain": [
       "<Figure size 432x288 with 1 Axes>"
      ]
     },
     "metadata": {
      "needs_background": "light"
     },
     "output_type": "display_data"
    }
   ],
   "source": [
    "sns.heatmap(array, annot=True, cbar = None, annot_kws={\"size\": 16}, fmt = \".0f\", cmap='Blues')\n",
    "plt.title('Matriz de Confusão Random Forest')\n",
    "plt.ylabel('True label')\n",
    "plt.xlabel('Predicted label')"
   ]
  },
  {
   "cell_type": "markdown",
   "id": "ac55f3da",
   "metadata": {},
   "source": [
    "Other algorithms were also implemented but without improvements compared to the previous ones."
   ]
  },
  {
   "cell_type": "markdown",
   "id": "80d723a8",
   "metadata": {},
   "source": [
    "## Naive Bayes"
   ]
  },
  {
   "cell_type": "markdown",
   "id": "5617e706",
   "metadata": {},
   "source": [
    "Train test split with 70% for training and 30% for the test."
   ]
  },
  {
   "cell_type": "code",
   "execution_count": 187,
   "id": "418e780f",
   "metadata": {
    "scrolled": false
   },
   "outputs": [
    {
     "name": "stdout",
     "output_type": "stream",
     "text": [
      "training dataset: 3705\n",
      "test dataset: 1564\n"
     ]
    }
   ],
   "source": [
    "train, test = final_data2.randomSplit([0.7, 0.3],seed=1000)\n",
    "print(\"training dataset:\", str(train.count()))\n",
    "print(\"test dataset:\", str(test.count()))"
   ]
  },
  {
   "cell_type": "markdown",
   "id": "5027c71b",
   "metadata": {},
   "source": [
    "Check if classes are balanced."
   ]
  },
  {
   "cell_type": "code",
   "execution_count": 188,
   "id": "e03b51f7",
   "metadata": {
    "scrolled": true
   },
   "outputs": [
    {
     "name": "stdout",
     "output_type": "stream",
     "text": [
      "+------------+-----+\n",
      "|labelIndexed|count|\n",
      "+------------+-----+\n",
      "|         0.0| 2746|\n",
      "|         1.0| 2523|\n",
      "+------------+-----+\n",
      "\n"
     ]
    }
   ],
   "source": [
    "final_data2.groupBy('labelIndexed').count().show()"
   ]
  },
  {
   "cell_type": "markdown",
   "id": "93cf6eb4",
   "metadata": {},
   "source": [
    "Applying the Naive Bayes algorithm."
   ]
  },
  {
   "cell_type": "code",
   "execution_count": 189,
   "id": "4951abfd",
   "metadata": {
    "scrolled": true
   },
   "outputs": [
    {
     "name": "stdout",
     "output_type": "stream",
     "text": [
      "+--------------------+------------+--------------------+--------------------+----------+\n",
      "|            features|labelIndexed|       rawPrediction|         probability|prediction|\n",
      "+--------------------+------------+--------------------+--------------------+----------+\n",
      "|[2543.0,6888.0,22...|         0.0|[-399543.35033469...|[1.25540870679709...|       1.0|\n",
      "|[3563.0,17630.0,1...|         0.0|[-250590.48358839...|           [1.0,0.0]|       0.0|\n",
      "|[3719.0,1931.0,12...|         0.0|[-425010.19059420...|           [0.0,1.0]|       1.0|\n",
      "|[4190.0,12882.0,1...|         0.0|[-406185.85670542...|           [0.0,1.0]|       1.0|\n",
      "|[4372.0,14138.0,1...|         0.0|[-416390.45332071...|           [0.0,1.0]|       1.0|\n",
      "+--------------------+------------+--------------------+--------------------+----------+\n",
      "only showing top 5 rows\n",
      "\n"
     ]
    }
   ],
   "source": [
    "nb = NaiveBayes(featuresCol = \"features\",labelCol=\"labelIndexed\", modelType=\"multinomial\")\n",
    "nbmodel = nb.fit(train)\n",
    "predictions_df = nbmodel.transform(test)\n",
    "predictions_df.show(5)"
   ]
  },
  {
   "cell_type": "markdown",
   "id": "32a1ad2e",
   "metadata": {},
   "source": [
    "Accuracy and test error."
   ]
  },
  {
   "cell_type": "code",
   "execution_count": 190,
   "id": "98aa0951",
   "metadata": {},
   "outputs": [
    {
     "name": "stdout",
     "output_type": "stream",
     "text": [
      "Test set accuracy =  0.5\n"
     ]
    }
   ],
   "source": [
    "evaluator = MulticlassClassificationEvaluator(labelCol=\"labelIndexed\", predictionCol=\"prediction\", metricName=\"accuracy\")\n",
    "nbaccuracy = evaluator.evaluate(predictions_df)\n",
    "print(\"Test set accuracy = \", str(nbaccuracy))"
   ]
  },
  {
   "cell_type": "markdown",
   "id": "4949989d",
   "metadata": {},
   "source": [
    "## Gradient Boosting"
   ]
  },
  {
   "cell_type": "markdown",
   "id": "29ec0ef6",
   "metadata": {},
   "source": [
    "Applying the Gradient Boosting algorithm."
   ]
  },
  {
   "cell_type": "code",
   "execution_count": 191,
   "id": "12e857b6",
   "metadata": {},
   "outputs": [
    {
     "name": "stdout",
     "output_type": "stream",
     "text": [
      "+----------+------------+\n",
      "|prediction|labelIndexed|\n",
      "+----------+------------+\n",
      "|       0.0|         0.0|\n",
      "|       0.0|         0.0|\n",
      "|       0.0|         0.0|\n",
      "|       0.0|         0.0|\n",
      "|       0.0|         0.0|\n",
      "|       0.0|         0.0|\n",
      "|       0.0|         0.0|\n",
      "|       0.0|         0.0|\n",
      "|       1.0|         0.0|\n",
      "|       1.0|         0.0|\n",
      "+----------+------------+\n",
      "only showing top 10 rows\n",
      "\n"
     ]
    }
   ],
   "source": [
    "gbt = GBTClassifier(featuresCol = \"features\",labelCol=\"labelIndexed\",maxIter=10)\n",
    "gbtModel = gbt.fit(train)\n",
    "predictions = gbtModel.transform(test)\n",
    "predictions.select('prediction', 'labelIndexed').show(10)"
   ]
  },
  {
   "cell_type": "markdown",
   "id": "0416ed63",
   "metadata": {},
   "source": [
    "Test area under ROC."
   ]
  },
  {
   "cell_type": "code",
   "execution_count": 192,
   "id": "64650d0b",
   "metadata": {},
   "outputs": [
    {
     "name": "stdout",
     "output_type": "stream",
     "text": [
      "Test Area Under ROC: 0.49157065901226793\n"
     ]
    }
   ],
   "source": [
    "evaluator = BinaryClassificationEvaluator(rawPredictionCol=\"rawPrediction\",labelCol=\"labelIndexed\")\n",
    "print(\"Test Area Under ROC: \" + str(evaluator.evaluate(predictions, {evaluator.metricName: \"areaUnderROC\"})))"
   ]
  },
  {
   "cell_type": "markdown",
   "id": "7deb0f19",
   "metadata": {},
   "source": [
    "## SVM"
   ]
  },
  {
   "cell_type": "markdown",
   "id": "1f2a9dc9",
   "metadata": {},
   "source": [
    "Train test split with 70% for training and 30% for the test."
   ]
  },
  {
   "cell_type": "code",
   "execution_count": 193,
   "id": "3c800511",
   "metadata": {},
   "outputs": [
    {
     "name": "stdout",
     "output_type": "stream",
     "text": [
      "training dataset: 3705\n",
      "test dataset: 1564\n"
     ]
    }
   ],
   "source": [
    "train, test = final_data2.randomSplit([0.7, 0.3],seed=1000)\n",
    "print(\"training dataset:\", str(train.count()))\n",
    "print(\"test dataset:\", str(test.count()))"
   ]
  },
  {
   "cell_type": "markdown",
   "id": "17d06e72",
   "metadata": {},
   "source": [
    "Applying the SVM algorithm."
   ]
  },
  {
   "cell_type": "code",
   "execution_count": 194,
   "id": "2734f6a7",
   "metadata": {
    "scrolled": false
   },
   "outputs": [
    {
     "name": "stdout",
     "output_type": "stream",
     "text": [
      "Coefficients: [4.248521218628283e-06,-6.876948339043385e-06,-5.4865355792873164e-06,-0.004747427611226675,-0.00748473808823967,-0.0003362519679523572,0.04595552031298293,0.0053081409542947424,0.014934582982120713,3.3556359129170377e-07,-0.09458717387783662,0.01187384754745671,-0.002043931393352727,0.0989207190947006,0.12921944431748125,-0.0034248889166192914,0.4131475162488599,-2.3630710978099786e-07,-0.0037984819437443997,-0.001985236677044179,-0.11146694310755831,6.686001887135077e-06,0.01581378070529258,1.789639365044551e-05,-0.006394759616376931,1.1709052796769825,-1.5047360866719533e-05,4.37582020716675e-05,5.325820949297842e-07,2.5388101052248422e-06]\n",
      "Intercept: -0.1153215311308522\n"
     ]
    }
   ],
   "source": [
    "lsvc = LinearSVC(featuresCol = \"features\",labelCol=\"labelIndexed\",maxIter=10, regParam=0.1)\n",
    "lsvcModel = lsvc.fit(train)\n",
    "print(\"Coefficients: \" + str(lsvcModel.coefficients))\n",
    "print(\"Intercept: \" + str(lsvcModel.intercept))"
   ]
  },
  {
   "cell_type": "markdown",
   "id": "2963add5",
   "metadata": {},
   "source": [
    "Test area under ROC."
   ]
  },
  {
   "cell_type": "code",
   "execution_count": 195,
   "id": "4c0e24ea",
   "metadata": {},
   "outputs": [
    {
     "name": "stdout",
     "output_type": "stream",
     "text": [
      "Test Area Under ROC: 0.491570659012268\n"
     ]
    }
   ],
   "source": [
    "evaluator = BinaryClassificationEvaluator(rawPredictionCol=\"rawPrediction\",labelCol=\"labelIndexed\")\n",
    "print(\"Test Area Under ROC: \" + str(evaluator.evaluate(predictions, {evaluator.metricName: \"areaUnderROC\"})))"
   ]
  },
  {
   "cell_type": "markdown",
   "id": "084ba825",
   "metadata": {},
   "source": [
    "Classification report with all metrics."
   ]
  },
  {
   "cell_type": "code",
   "execution_count": 196,
   "id": "3e5443ae",
   "metadata": {},
   "outputs": [
    {
     "name": "stdout",
     "output_type": "stream",
     "text": [
      "              precision    recall  f1-score   support\n",
      "\n",
      "         0.0       0.52      0.57      0.54       816\n",
      "         1.0       0.47      0.43      0.45       748\n",
      "\n",
      "    accuracy                           0.50      1564\n",
      "   macro avg       0.50      0.50      0.50      1564\n",
      "weighted avg       0.50      0.50      0.50      1564\n",
      "\n"
     ]
    }
   ],
   "source": [
    "print(classification_report(test.select('labelIndexed').toPandas(),predictions.select('prediction').toPandas()))"
   ]
  }
 ],
 "metadata": {
  "kernelspec": {
   "display_name": "Python 3 (ipykernel)",
   "language": "python",
   "name": "python3"
  },
  "language_info": {
   "codemirror_mode": {
    "name": "ipython",
    "version": 3
   },
   "file_extension": ".py",
   "mimetype": "text/x-python",
   "name": "python",
   "nbconvert_exporter": "python",
   "pygments_lexer": "ipython3",
   "version": "3.10.1"
  }
 },
 "nbformat": 4,
 "nbformat_minor": 5
}
